{
  "nbformat": 4,
  "nbformat_minor": 0,
  "metadata": {
    "colab": {
      "name": "Appliance energy prediction.ipynb",
      "provenance": [],
      "authorship_tag": "ABX9TyMSVRQjHxLRY4ihddhSeceM",
      "include_colab_link": true
    },
    "kernelspec": {
      "name": "python3",
      "display_name": "Python 3"
    },
    "language_info": {
      "name": "python"
    }
  },
  "cells": [
    {
      "cell_type": "markdown",
      "metadata": {
        "id": "view-in-github",
        "colab_type": "text"
      },
      "source": [
        "<a href=\"https://colab.research.google.com/github/anasjy/appliance-energy-prediction/blob/main/Appliance_energy_prediction.ipynb\" target=\"_parent\"><img src=\"https://colab.research.google.com/assets/colab-badge.svg\" alt=\"Open In Colab\"/></a>"
      ]
    },
    {
      "cell_type": "markdown",
      "metadata": {
        "id": "cX4HPa6nj0NH"
      },
      "source": [
        "# **Regression**\n",
        "# **All about data**\n",
        "Data-driven prediction of energy use of appliances   \n",
        "\n",
        "The data set is at 10 min for about 4.5 months. The house temperature and humidity conditions\n",
        "were monitored with a ZigBee wireless sensor network. Each wireless node transmitted the\n",
        "temperature and humidity conditions around 3.3 min. Then, the wireless data was averaged for\n",
        "10 minutes periods. The energy data was logged every 10 minutes with m-bus energy meters.\n",
        "Weather from the nearest airport weather station (Chievres Airport, Belgium) was downloaded\n",
        "from a public data set from Reliable Prognosis (rp5.ru) and merged together with the\n",
        "experimental data sets using the date and time column. Two random variables have been\n",
        "included in the data set for testing the regression models and to filter out non-predictive attributes\n",
        "(parameters).\n",
        "\n",
        "# **Attribute Information**\n",
        "Date: time (yr:mon:day:hr:min:sec) Appliances: energy use in Wh lights: Energy use of light fixtures in the house(Wh)\n",
        "\n",
        "T1: Temperature in kitchen area(C), RH_1: Humidity in kitchen area(%)   \n",
        "\n",
        "T2: Temperature in living room area(C), RH_2: Humidity in living room(%)  \n",
        "\n",
        "T3: Temperature in laundry room, RH_3: Humidity in laundry room area(%)   \n",
        "\n",
        "T4: Temperature in office room(C), RH_4: Humidity in office room(%)   \n",
        "\n",
        "T5: Temperature in bathroom in (C), RH_5: Humidity in bathroom(%)           \n",
        "\n",
        "T6: Temperature outside the building (north side) in (C), RH_6: Humidity outside the building (northside)%    \n",
        "\n",
        "T7: Temperature in ironing room in (C), RH_7: Humidity in ironing room in (%)  \n",
        "\n",
        "T8:Temperature in teenager room 2 in (C), RH_8: Humidity in teenager room 2 in (%)  \n",
        "\n",
        "T9: Temperature in parents room in (C), RH_9: Humidity in parents room in %\n",
        "\n",
        "To: Temperature outside (from Chievres weather station) in (C) Pressure (from Chievres weather station): in mm Hg RH_out: Humidity outside (from Chievres weather station) in (%),\n",
        "\n",
        "Wind speed (from Chievres weather station), in m/s  \n",
        "Visibility (from Chievres weather station), in km   \n",
        "Tdewpoint (from Chievres weather station), Â°C   \n",
        "rv1, Random variable 1, nondimensional   \n",
        "rv2, Random variable 2, nondimensional   \n",
        "\n",
        "Where indicated, hourly data (then interpolated) from the nearest airport weather station (Chievres Airport, Belgium) was downloaded from a public data set from Reliable Prognosis,rp5.ru. Permission was obtained from Reliable Prognosis for the distribution of the 4.5 months of weather data.\n",
        "\n"
      ]
    },
    {
      "cell_type": "markdown",
      "metadata": {
        "id": "q5gk81hVKMyf"
      },
      "source": [
        "# **Import Packages**\n",
        "# First Import necessary packages and import the dataset"
      ]
    },
    {
      "cell_type": "code",
      "metadata": {
        "id": "pD5zJofZptHp",
        "colab": {
          "base_uri": "https://localhost:8080/"
        },
        "outputId": "3f915e2b-03b5-487d-9398-941a398df700"
      },
      "source": [
        "import numpy as np\n",
        "import pandas as pd\n",
        "from numpy import math\n",
        "\n",
        "from sklearn.preprocessing import MinMaxScaler\n",
        "from sklearn.preprocessing import StandardScaler\n",
        "from sklearn.linear_model import LinearRegression,RidgeCV, LassoCV, ElasticNetCV\n",
        "from sklearn.model_selection import train_test_split\n",
        "from sklearn.linear_model import LinearRegression\n",
        "from sklearn.metrics import r2_score\n",
        "from sklearn.metrics import mean_squared_error\n",
        "from sklearn.metrics import mean_absolute_error\n",
        "import statsmodels.api as sm\n",
        "import statsmodels.formula.api as smf\n",
        "import seaborn as sns\n",
        "import matplotlib.pyplot as plt\n",
        "import warnings\n",
        "warnings.filterwarnings('ignore')\n",
        "\n",
        "%matplotlib inline\n",
        "sns.set(color_codes=True)"
      ],
      "execution_count": 2,
      "outputs": [
        {
          "output_type": "stream",
          "name": "stderr",
          "text": [
            "/usr/local/lib/python3.7/dist-packages/statsmodels/tools/_testing.py:19: FutureWarning: pandas.util.testing is deprecated. Use the functions in the public API at pandas.testing instead.\n",
            "  import pandas.util.testing as tm\n"
          ]
        }
      ]
    },
    {
      "cell_type": "markdown",
      "metadata": {
        "id": "Um-8ZuGj54oO"
      },
      "source": [
        "# **Exploratory Data Analysis**"
      ]
    },
    {
      "cell_type": "code",
      "metadata": {
        "colab": {
          "base_uri": "https://localhost:8080/"
        },
        "id": "F3r2NL-LiJvB",
        "outputId": "f79630e5-b65a-469c-a081-e529bff1e6e9"
      },
      "source": [
        "from google.colab import drive\n",
        "drive.mount('/content/drive')"
      ],
      "execution_count": 3,
      "outputs": [
        {
          "output_type": "stream",
          "name": "stdout",
          "text": [
            "Mounted at /content/drive\n"
          ]
        }
      ]
    },
    {
      "cell_type": "code",
      "metadata": {
        "id": "Yr8S-12PioYz"
      },
      "source": [
        "slr = pd.read_csv('/content/drive/MyDrive/Capstone machine learning regression/data_application_energy.csv')"
      ],
      "execution_count": 4,
      "outputs": []
    },
    {
      "cell_type": "code",
      "metadata": {
        "colab": {
          "base_uri": "https://localhost:8080/",
          "height": 779
        },
        "id": "iPtjceGhkA9_",
        "outputId": "4fb6e35d-33a5-4893-ed7a-ba84a5e0e7ad"
      },
      "source": [
        "slr"
      ],
      "execution_count": null,
      "outputs": [
        {
          "output_type": "execute_result",
          "data": {
            "text/html": [
              "<div>\n",
              "<style scoped>\n",
              "    .dataframe tbody tr th:only-of-type {\n",
              "        vertical-align: middle;\n",
              "    }\n",
              "\n",
              "    .dataframe tbody tr th {\n",
              "        vertical-align: top;\n",
              "    }\n",
              "\n",
              "    .dataframe thead th {\n",
              "        text-align: right;\n",
              "    }\n",
              "</style>\n",
              "<table border=\"1\" class=\"dataframe\">\n",
              "  <thead>\n",
              "    <tr style=\"text-align: right;\">\n",
              "      <th></th>\n",
              "      <th>date</th>\n",
              "      <th>Appliances</th>\n",
              "      <th>lights</th>\n",
              "      <th>T1</th>\n",
              "      <th>RH_1</th>\n",
              "      <th>T2</th>\n",
              "      <th>RH_2</th>\n",
              "      <th>T3</th>\n",
              "      <th>RH_3</th>\n",
              "      <th>T4</th>\n",
              "      <th>RH_4</th>\n",
              "      <th>T5</th>\n",
              "      <th>RH_5</th>\n",
              "      <th>T6</th>\n",
              "      <th>RH_6</th>\n",
              "      <th>T7</th>\n",
              "      <th>RH_7</th>\n",
              "      <th>T8</th>\n",
              "      <th>RH_8</th>\n",
              "      <th>T9</th>\n",
              "      <th>RH_9</th>\n",
              "      <th>T_out</th>\n",
              "      <th>Press_mm_hg</th>\n",
              "      <th>RH_out</th>\n",
              "      <th>Windspeed</th>\n",
              "      <th>Visibility</th>\n",
              "      <th>Tdewpoint</th>\n",
              "      <th>rv1</th>\n",
              "      <th>rv2</th>\n",
              "    </tr>\n",
              "  </thead>\n",
              "  <tbody>\n",
              "    <tr>\n",
              "      <th>0</th>\n",
              "      <td>2016-01-11 17:00:00</td>\n",
              "      <td>60</td>\n",
              "      <td>30</td>\n",
              "      <td>19.890000</td>\n",
              "      <td>47.596667</td>\n",
              "      <td>19.200000</td>\n",
              "      <td>44.790000</td>\n",
              "      <td>19.790000</td>\n",
              "      <td>44.730000</td>\n",
              "      <td>19.000000</td>\n",
              "      <td>45.566667</td>\n",
              "      <td>17.166667</td>\n",
              "      <td>55.200000</td>\n",
              "      <td>7.026667</td>\n",
              "      <td>84.256667</td>\n",
              "      <td>17.200000</td>\n",
              "      <td>41.626667</td>\n",
              "      <td>18.2000</td>\n",
              "      <td>48.900000</td>\n",
              "      <td>17.033333</td>\n",
              "      <td>45.5300</td>\n",
              "      <td>6.600000</td>\n",
              "      <td>733.5</td>\n",
              "      <td>92.000000</td>\n",
              "      <td>7.000000</td>\n",
              "      <td>63.000000</td>\n",
              "      <td>5.300000</td>\n",
              "      <td>13.275433</td>\n",
              "      <td>13.275433</td>\n",
              "    </tr>\n",
              "    <tr>\n",
              "      <th>1</th>\n",
              "      <td>2016-01-11 17:10:00</td>\n",
              "      <td>60</td>\n",
              "      <td>30</td>\n",
              "      <td>19.890000</td>\n",
              "      <td>46.693333</td>\n",
              "      <td>19.200000</td>\n",
              "      <td>44.722500</td>\n",
              "      <td>19.790000</td>\n",
              "      <td>44.790000</td>\n",
              "      <td>19.000000</td>\n",
              "      <td>45.992500</td>\n",
              "      <td>17.166667</td>\n",
              "      <td>55.200000</td>\n",
              "      <td>6.833333</td>\n",
              "      <td>84.063333</td>\n",
              "      <td>17.200000</td>\n",
              "      <td>41.560000</td>\n",
              "      <td>18.2000</td>\n",
              "      <td>48.863333</td>\n",
              "      <td>17.066667</td>\n",
              "      <td>45.5600</td>\n",
              "      <td>6.483333</td>\n",
              "      <td>733.6</td>\n",
              "      <td>92.000000</td>\n",
              "      <td>6.666667</td>\n",
              "      <td>59.166667</td>\n",
              "      <td>5.200000</td>\n",
              "      <td>18.606195</td>\n",
              "      <td>18.606195</td>\n",
              "    </tr>\n",
              "    <tr>\n",
              "      <th>2</th>\n",
              "      <td>2016-01-11 17:20:00</td>\n",
              "      <td>50</td>\n",
              "      <td>30</td>\n",
              "      <td>19.890000</td>\n",
              "      <td>46.300000</td>\n",
              "      <td>19.200000</td>\n",
              "      <td>44.626667</td>\n",
              "      <td>19.790000</td>\n",
              "      <td>44.933333</td>\n",
              "      <td>18.926667</td>\n",
              "      <td>45.890000</td>\n",
              "      <td>17.166667</td>\n",
              "      <td>55.090000</td>\n",
              "      <td>6.560000</td>\n",
              "      <td>83.156667</td>\n",
              "      <td>17.200000</td>\n",
              "      <td>41.433333</td>\n",
              "      <td>18.2000</td>\n",
              "      <td>48.730000</td>\n",
              "      <td>17.000000</td>\n",
              "      <td>45.5000</td>\n",
              "      <td>6.366667</td>\n",
              "      <td>733.7</td>\n",
              "      <td>92.000000</td>\n",
              "      <td>6.333333</td>\n",
              "      <td>55.333333</td>\n",
              "      <td>5.100000</td>\n",
              "      <td>28.642668</td>\n",
              "      <td>28.642668</td>\n",
              "    </tr>\n",
              "    <tr>\n",
              "      <th>3</th>\n",
              "      <td>2016-01-11 17:30:00</td>\n",
              "      <td>50</td>\n",
              "      <td>40</td>\n",
              "      <td>19.890000</td>\n",
              "      <td>46.066667</td>\n",
              "      <td>19.200000</td>\n",
              "      <td>44.590000</td>\n",
              "      <td>19.790000</td>\n",
              "      <td>45.000000</td>\n",
              "      <td>18.890000</td>\n",
              "      <td>45.723333</td>\n",
              "      <td>17.166667</td>\n",
              "      <td>55.090000</td>\n",
              "      <td>6.433333</td>\n",
              "      <td>83.423333</td>\n",
              "      <td>17.133333</td>\n",
              "      <td>41.290000</td>\n",
              "      <td>18.1000</td>\n",
              "      <td>48.590000</td>\n",
              "      <td>17.000000</td>\n",
              "      <td>45.4000</td>\n",
              "      <td>6.250000</td>\n",
              "      <td>733.8</td>\n",
              "      <td>92.000000</td>\n",
              "      <td>6.000000</td>\n",
              "      <td>51.500000</td>\n",
              "      <td>5.000000</td>\n",
              "      <td>45.410389</td>\n",
              "      <td>45.410389</td>\n",
              "    </tr>\n",
              "    <tr>\n",
              "      <th>4</th>\n",
              "      <td>2016-01-11 17:40:00</td>\n",
              "      <td>60</td>\n",
              "      <td>40</td>\n",
              "      <td>19.890000</td>\n",
              "      <td>46.333333</td>\n",
              "      <td>19.200000</td>\n",
              "      <td>44.530000</td>\n",
              "      <td>19.790000</td>\n",
              "      <td>45.000000</td>\n",
              "      <td>18.890000</td>\n",
              "      <td>45.530000</td>\n",
              "      <td>17.200000</td>\n",
              "      <td>55.090000</td>\n",
              "      <td>6.366667</td>\n",
              "      <td>84.893333</td>\n",
              "      <td>17.200000</td>\n",
              "      <td>41.230000</td>\n",
              "      <td>18.1000</td>\n",
              "      <td>48.590000</td>\n",
              "      <td>17.000000</td>\n",
              "      <td>45.4000</td>\n",
              "      <td>6.133333</td>\n",
              "      <td>733.9</td>\n",
              "      <td>92.000000</td>\n",
              "      <td>5.666667</td>\n",
              "      <td>47.666667</td>\n",
              "      <td>4.900000</td>\n",
              "      <td>10.084097</td>\n",
              "      <td>10.084097</td>\n",
              "    </tr>\n",
              "    <tr>\n",
              "      <th>...</th>\n",
              "      <td>...</td>\n",
              "      <td>...</td>\n",
              "      <td>...</td>\n",
              "      <td>...</td>\n",
              "      <td>...</td>\n",
              "      <td>...</td>\n",
              "      <td>...</td>\n",
              "      <td>...</td>\n",
              "      <td>...</td>\n",
              "      <td>...</td>\n",
              "      <td>...</td>\n",
              "      <td>...</td>\n",
              "      <td>...</td>\n",
              "      <td>...</td>\n",
              "      <td>...</td>\n",
              "      <td>...</td>\n",
              "      <td>...</td>\n",
              "      <td>...</td>\n",
              "      <td>...</td>\n",
              "      <td>...</td>\n",
              "      <td>...</td>\n",
              "      <td>...</td>\n",
              "      <td>...</td>\n",
              "      <td>...</td>\n",
              "      <td>...</td>\n",
              "      <td>...</td>\n",
              "      <td>...</td>\n",
              "      <td>...</td>\n",
              "      <td>...</td>\n",
              "    </tr>\n",
              "    <tr>\n",
              "      <th>19730</th>\n",
              "      <td>2016-05-27 17:20:00</td>\n",
              "      <td>100</td>\n",
              "      <td>0</td>\n",
              "      <td>25.566667</td>\n",
              "      <td>46.560000</td>\n",
              "      <td>25.890000</td>\n",
              "      <td>42.025714</td>\n",
              "      <td>27.200000</td>\n",
              "      <td>41.163333</td>\n",
              "      <td>24.700000</td>\n",
              "      <td>45.590000</td>\n",
              "      <td>23.200000</td>\n",
              "      <td>52.400000</td>\n",
              "      <td>24.796667</td>\n",
              "      <td>1.000000</td>\n",
              "      <td>24.500000</td>\n",
              "      <td>44.500000</td>\n",
              "      <td>24.7000</td>\n",
              "      <td>50.074000</td>\n",
              "      <td>23.200000</td>\n",
              "      <td>46.7900</td>\n",
              "      <td>22.733333</td>\n",
              "      <td>755.2</td>\n",
              "      <td>55.666667</td>\n",
              "      <td>3.333333</td>\n",
              "      <td>23.666667</td>\n",
              "      <td>13.333333</td>\n",
              "      <td>43.096812</td>\n",
              "      <td>43.096812</td>\n",
              "    </tr>\n",
              "    <tr>\n",
              "      <th>19731</th>\n",
              "      <td>2016-05-27 17:30:00</td>\n",
              "      <td>90</td>\n",
              "      <td>0</td>\n",
              "      <td>25.500000</td>\n",
              "      <td>46.500000</td>\n",
              "      <td>25.754000</td>\n",
              "      <td>42.080000</td>\n",
              "      <td>27.133333</td>\n",
              "      <td>41.223333</td>\n",
              "      <td>24.700000</td>\n",
              "      <td>45.590000</td>\n",
              "      <td>23.230000</td>\n",
              "      <td>52.326667</td>\n",
              "      <td>24.196667</td>\n",
              "      <td>1.000000</td>\n",
              "      <td>24.557143</td>\n",
              "      <td>44.414286</td>\n",
              "      <td>24.7000</td>\n",
              "      <td>49.790000</td>\n",
              "      <td>23.200000</td>\n",
              "      <td>46.7900</td>\n",
              "      <td>22.600000</td>\n",
              "      <td>755.2</td>\n",
              "      <td>56.000000</td>\n",
              "      <td>3.500000</td>\n",
              "      <td>24.500000</td>\n",
              "      <td>13.300000</td>\n",
              "      <td>49.282940</td>\n",
              "      <td>49.282940</td>\n",
              "    </tr>\n",
              "    <tr>\n",
              "      <th>19732</th>\n",
              "      <td>2016-05-27 17:40:00</td>\n",
              "      <td>270</td>\n",
              "      <td>10</td>\n",
              "      <td>25.500000</td>\n",
              "      <td>46.596667</td>\n",
              "      <td>25.628571</td>\n",
              "      <td>42.768571</td>\n",
              "      <td>27.050000</td>\n",
              "      <td>41.690000</td>\n",
              "      <td>24.700000</td>\n",
              "      <td>45.730000</td>\n",
              "      <td>23.230000</td>\n",
              "      <td>52.266667</td>\n",
              "      <td>23.626667</td>\n",
              "      <td>1.000000</td>\n",
              "      <td>24.540000</td>\n",
              "      <td>44.400000</td>\n",
              "      <td>24.7000</td>\n",
              "      <td>49.660000</td>\n",
              "      <td>23.200000</td>\n",
              "      <td>46.7900</td>\n",
              "      <td>22.466667</td>\n",
              "      <td>755.2</td>\n",
              "      <td>56.333333</td>\n",
              "      <td>3.666667</td>\n",
              "      <td>25.333333</td>\n",
              "      <td>13.266667</td>\n",
              "      <td>29.199117</td>\n",
              "      <td>29.199117</td>\n",
              "    </tr>\n",
              "    <tr>\n",
              "      <th>19733</th>\n",
              "      <td>2016-05-27 17:50:00</td>\n",
              "      <td>420</td>\n",
              "      <td>10</td>\n",
              "      <td>25.500000</td>\n",
              "      <td>46.990000</td>\n",
              "      <td>25.414000</td>\n",
              "      <td>43.036000</td>\n",
              "      <td>26.890000</td>\n",
              "      <td>41.290000</td>\n",
              "      <td>24.700000</td>\n",
              "      <td>45.790000</td>\n",
              "      <td>23.200000</td>\n",
              "      <td>52.200000</td>\n",
              "      <td>22.433333</td>\n",
              "      <td>1.000000</td>\n",
              "      <td>24.500000</td>\n",
              "      <td>44.295714</td>\n",
              "      <td>24.6625</td>\n",
              "      <td>49.518750</td>\n",
              "      <td>23.200000</td>\n",
              "      <td>46.8175</td>\n",
              "      <td>22.333333</td>\n",
              "      <td>755.2</td>\n",
              "      <td>56.666667</td>\n",
              "      <td>3.833333</td>\n",
              "      <td>26.166667</td>\n",
              "      <td>13.233333</td>\n",
              "      <td>6.322784</td>\n",
              "      <td>6.322784</td>\n",
              "    </tr>\n",
              "    <tr>\n",
              "      <th>19734</th>\n",
              "      <td>2016-05-27 18:00:00</td>\n",
              "      <td>430</td>\n",
              "      <td>10</td>\n",
              "      <td>25.500000</td>\n",
              "      <td>46.600000</td>\n",
              "      <td>25.264286</td>\n",
              "      <td>42.971429</td>\n",
              "      <td>26.823333</td>\n",
              "      <td>41.156667</td>\n",
              "      <td>24.700000</td>\n",
              "      <td>45.963333</td>\n",
              "      <td>23.200000</td>\n",
              "      <td>52.200000</td>\n",
              "      <td>21.026667</td>\n",
              "      <td>1.000000</td>\n",
              "      <td>24.500000</td>\n",
              "      <td>44.054000</td>\n",
              "      <td>24.7360</td>\n",
              "      <td>49.736000</td>\n",
              "      <td>23.200000</td>\n",
              "      <td>46.8450</td>\n",
              "      <td>22.200000</td>\n",
              "      <td>755.2</td>\n",
              "      <td>57.000000</td>\n",
              "      <td>4.000000</td>\n",
              "      <td>27.000000</td>\n",
              "      <td>13.200000</td>\n",
              "      <td>34.118851</td>\n",
              "      <td>34.118851</td>\n",
              "    </tr>\n",
              "  </tbody>\n",
              "</table>\n",
              "<p>19735 rows × 29 columns</p>\n",
              "</div>"
            ],
            "text/plain": [
              "                      date  Appliances  lights  ...  Tdewpoint        rv1        rv2\n",
              "0      2016-01-11 17:00:00          60      30  ...   5.300000  13.275433  13.275433\n",
              "1      2016-01-11 17:10:00          60      30  ...   5.200000  18.606195  18.606195\n",
              "2      2016-01-11 17:20:00          50      30  ...   5.100000  28.642668  28.642668\n",
              "3      2016-01-11 17:30:00          50      40  ...   5.000000  45.410389  45.410389\n",
              "4      2016-01-11 17:40:00          60      40  ...   4.900000  10.084097  10.084097\n",
              "...                    ...         ...     ...  ...        ...        ...        ...\n",
              "19730  2016-05-27 17:20:00         100       0  ...  13.333333  43.096812  43.096812\n",
              "19731  2016-05-27 17:30:00          90       0  ...  13.300000  49.282940  49.282940\n",
              "19732  2016-05-27 17:40:00         270      10  ...  13.266667  29.199117  29.199117\n",
              "19733  2016-05-27 17:50:00         420      10  ...  13.233333   6.322784   6.322784\n",
              "19734  2016-05-27 18:00:00         430      10  ...  13.200000  34.118851  34.118851\n",
              "\n",
              "[19735 rows x 29 columns]"
            ]
          },
          "metadata": {},
          "execution_count": 14
        }
      ]
    },
    {
      "cell_type": "code",
      "metadata": {
        "colab": {
          "base_uri": "https://localhost:8080/"
        },
        "id": "9LaaRC1gB1Ck",
        "outputId": "5c19aaf0-9778-45a1-c8c7-a868f3aa396b"
      },
      "source": [
        "slr.shape"
      ],
      "execution_count": null,
      "outputs": [
        {
          "output_type": "execute_result",
          "data": {
            "text/plain": [
              "(19735, 29)"
            ]
          },
          "metadata": {},
          "execution_count": 15
        }
      ]
    },
    {
      "cell_type": "code",
      "metadata": {
        "colab": {
          "base_uri": "https://localhost:8080/"
        },
        "id": "qREZxZQomitz",
        "outputId": "05bed9fa-2999-4d07-a526-810c47a43bf1"
      },
      "source": [
        "slr.columns"
      ],
      "execution_count": null,
      "outputs": [
        {
          "output_type": "execute_result",
          "data": {
            "text/plain": [
              "Index(['date', 'Appliances', 'lights', 'T1', 'RH_1', 'T2', 'RH_2', 'T3',\n",
              "       'RH_3', 'T4', 'RH_4', 'T5', 'RH_5', 'T6', 'RH_6', 'T7', 'RH_7', 'T8',\n",
              "       'RH_8', 'T9', 'RH_9', 'T_out', 'Press_mm_hg', 'RH_out', 'Windspeed',\n",
              "       'Visibility', 'Tdewpoint', 'rv1', 'rv2'],\n",
              "      dtype='object')"
            ]
          },
          "metadata": {},
          "execution_count": 16
        }
      ]
    },
    {
      "cell_type": "code",
      "metadata": {
        "colab": {
          "base_uri": "https://localhost:8080/",
          "height": 394
        },
        "id": "bAogix8fm15Q",
        "outputId": "78ba8f2f-c515-45e7-9565-ba929711db41"
      },
      "source": [
        "slr.head()"
      ],
      "execution_count": null,
      "outputs": [
        {
          "output_type": "execute_result",
          "data": {
            "text/html": [
              "<div>\n",
              "<style scoped>\n",
              "    .dataframe tbody tr th:only-of-type {\n",
              "        vertical-align: middle;\n",
              "    }\n",
              "\n",
              "    .dataframe tbody tr th {\n",
              "        vertical-align: top;\n",
              "    }\n",
              "\n",
              "    .dataframe thead th {\n",
              "        text-align: right;\n",
              "    }\n",
              "</style>\n",
              "<table border=\"1\" class=\"dataframe\">\n",
              "  <thead>\n",
              "    <tr style=\"text-align: right;\">\n",
              "      <th></th>\n",
              "      <th>date</th>\n",
              "      <th>Appliances</th>\n",
              "      <th>lights</th>\n",
              "      <th>T1</th>\n",
              "      <th>RH_1</th>\n",
              "      <th>T2</th>\n",
              "      <th>RH_2</th>\n",
              "      <th>T3</th>\n",
              "      <th>RH_3</th>\n",
              "      <th>T4</th>\n",
              "      <th>RH_4</th>\n",
              "      <th>T5</th>\n",
              "      <th>RH_5</th>\n",
              "      <th>T6</th>\n",
              "      <th>RH_6</th>\n",
              "      <th>T7</th>\n",
              "      <th>RH_7</th>\n",
              "      <th>T8</th>\n",
              "      <th>RH_8</th>\n",
              "      <th>T9</th>\n",
              "      <th>RH_9</th>\n",
              "      <th>T_out</th>\n",
              "      <th>Press_mm_hg</th>\n",
              "      <th>RH_out</th>\n",
              "      <th>Windspeed</th>\n",
              "      <th>Visibility</th>\n",
              "      <th>Tdewpoint</th>\n",
              "      <th>rv1</th>\n",
              "      <th>rv2</th>\n",
              "    </tr>\n",
              "  </thead>\n",
              "  <tbody>\n",
              "    <tr>\n",
              "      <th>0</th>\n",
              "      <td>2016-01-11 17:00:00</td>\n",
              "      <td>60</td>\n",
              "      <td>30</td>\n",
              "      <td>19.89</td>\n",
              "      <td>47.596667</td>\n",
              "      <td>19.2</td>\n",
              "      <td>44.790000</td>\n",
              "      <td>19.79</td>\n",
              "      <td>44.730000</td>\n",
              "      <td>19.000000</td>\n",
              "      <td>45.566667</td>\n",
              "      <td>17.166667</td>\n",
              "      <td>55.20</td>\n",
              "      <td>7.026667</td>\n",
              "      <td>84.256667</td>\n",
              "      <td>17.200000</td>\n",
              "      <td>41.626667</td>\n",
              "      <td>18.2</td>\n",
              "      <td>48.900000</td>\n",
              "      <td>17.033333</td>\n",
              "      <td>45.53</td>\n",
              "      <td>6.600000</td>\n",
              "      <td>733.5</td>\n",
              "      <td>92.0</td>\n",
              "      <td>7.000000</td>\n",
              "      <td>63.000000</td>\n",
              "      <td>5.3</td>\n",
              "      <td>13.275433</td>\n",
              "      <td>13.275433</td>\n",
              "    </tr>\n",
              "    <tr>\n",
              "      <th>1</th>\n",
              "      <td>2016-01-11 17:10:00</td>\n",
              "      <td>60</td>\n",
              "      <td>30</td>\n",
              "      <td>19.89</td>\n",
              "      <td>46.693333</td>\n",
              "      <td>19.2</td>\n",
              "      <td>44.722500</td>\n",
              "      <td>19.79</td>\n",
              "      <td>44.790000</td>\n",
              "      <td>19.000000</td>\n",
              "      <td>45.992500</td>\n",
              "      <td>17.166667</td>\n",
              "      <td>55.20</td>\n",
              "      <td>6.833333</td>\n",
              "      <td>84.063333</td>\n",
              "      <td>17.200000</td>\n",
              "      <td>41.560000</td>\n",
              "      <td>18.2</td>\n",
              "      <td>48.863333</td>\n",
              "      <td>17.066667</td>\n",
              "      <td>45.56</td>\n",
              "      <td>6.483333</td>\n",
              "      <td>733.6</td>\n",
              "      <td>92.0</td>\n",
              "      <td>6.666667</td>\n",
              "      <td>59.166667</td>\n",
              "      <td>5.2</td>\n",
              "      <td>18.606195</td>\n",
              "      <td>18.606195</td>\n",
              "    </tr>\n",
              "    <tr>\n",
              "      <th>2</th>\n",
              "      <td>2016-01-11 17:20:00</td>\n",
              "      <td>50</td>\n",
              "      <td>30</td>\n",
              "      <td>19.89</td>\n",
              "      <td>46.300000</td>\n",
              "      <td>19.2</td>\n",
              "      <td>44.626667</td>\n",
              "      <td>19.79</td>\n",
              "      <td>44.933333</td>\n",
              "      <td>18.926667</td>\n",
              "      <td>45.890000</td>\n",
              "      <td>17.166667</td>\n",
              "      <td>55.09</td>\n",
              "      <td>6.560000</td>\n",
              "      <td>83.156667</td>\n",
              "      <td>17.200000</td>\n",
              "      <td>41.433333</td>\n",
              "      <td>18.2</td>\n",
              "      <td>48.730000</td>\n",
              "      <td>17.000000</td>\n",
              "      <td>45.50</td>\n",
              "      <td>6.366667</td>\n",
              "      <td>733.7</td>\n",
              "      <td>92.0</td>\n",
              "      <td>6.333333</td>\n",
              "      <td>55.333333</td>\n",
              "      <td>5.1</td>\n",
              "      <td>28.642668</td>\n",
              "      <td>28.642668</td>\n",
              "    </tr>\n",
              "    <tr>\n",
              "      <th>3</th>\n",
              "      <td>2016-01-11 17:30:00</td>\n",
              "      <td>50</td>\n",
              "      <td>40</td>\n",
              "      <td>19.89</td>\n",
              "      <td>46.066667</td>\n",
              "      <td>19.2</td>\n",
              "      <td>44.590000</td>\n",
              "      <td>19.79</td>\n",
              "      <td>45.000000</td>\n",
              "      <td>18.890000</td>\n",
              "      <td>45.723333</td>\n",
              "      <td>17.166667</td>\n",
              "      <td>55.09</td>\n",
              "      <td>6.433333</td>\n",
              "      <td>83.423333</td>\n",
              "      <td>17.133333</td>\n",
              "      <td>41.290000</td>\n",
              "      <td>18.1</td>\n",
              "      <td>48.590000</td>\n",
              "      <td>17.000000</td>\n",
              "      <td>45.40</td>\n",
              "      <td>6.250000</td>\n",
              "      <td>733.8</td>\n",
              "      <td>92.0</td>\n",
              "      <td>6.000000</td>\n",
              "      <td>51.500000</td>\n",
              "      <td>5.0</td>\n",
              "      <td>45.410389</td>\n",
              "      <td>45.410389</td>\n",
              "    </tr>\n",
              "    <tr>\n",
              "      <th>4</th>\n",
              "      <td>2016-01-11 17:40:00</td>\n",
              "      <td>60</td>\n",
              "      <td>40</td>\n",
              "      <td>19.89</td>\n",
              "      <td>46.333333</td>\n",
              "      <td>19.2</td>\n",
              "      <td>44.530000</td>\n",
              "      <td>19.79</td>\n",
              "      <td>45.000000</td>\n",
              "      <td>18.890000</td>\n",
              "      <td>45.530000</td>\n",
              "      <td>17.200000</td>\n",
              "      <td>55.09</td>\n",
              "      <td>6.366667</td>\n",
              "      <td>84.893333</td>\n",
              "      <td>17.200000</td>\n",
              "      <td>41.230000</td>\n",
              "      <td>18.1</td>\n",
              "      <td>48.590000</td>\n",
              "      <td>17.000000</td>\n",
              "      <td>45.40</td>\n",
              "      <td>6.133333</td>\n",
              "      <td>733.9</td>\n",
              "      <td>92.0</td>\n",
              "      <td>5.666667</td>\n",
              "      <td>47.666667</td>\n",
              "      <td>4.9</td>\n",
              "      <td>10.084097</td>\n",
              "      <td>10.084097</td>\n",
              "    </tr>\n",
              "  </tbody>\n",
              "</table>\n",
              "</div>"
            ],
            "text/plain": [
              "                  date  Appliances  lights  ...  Tdewpoint        rv1        rv2\n",
              "0  2016-01-11 17:00:00          60      30  ...        5.3  13.275433  13.275433\n",
              "1  2016-01-11 17:10:00          60      30  ...        5.2  18.606195  18.606195\n",
              "2  2016-01-11 17:20:00          50      30  ...        5.1  28.642668  28.642668\n",
              "3  2016-01-11 17:30:00          50      40  ...        5.0  45.410389  45.410389\n",
              "4  2016-01-11 17:40:00          60      40  ...        4.9  10.084097  10.084097\n",
              "\n",
              "[5 rows x 29 columns]"
            ]
          },
          "metadata": {},
          "execution_count": 17
        }
      ]
    },
    {
      "cell_type": "code",
      "metadata": {
        "colab": {
          "base_uri": "https://localhost:8080/",
          "height": 394
        },
        "id": "XIajjRChm7hn",
        "outputId": "04414eb5-57e9-4af8-811a-9d0d5a542e46"
      },
      "source": [
        "slr.tail()"
      ],
      "execution_count": null,
      "outputs": [
        {
          "output_type": "execute_result",
          "data": {
            "text/html": [
              "<div>\n",
              "<style scoped>\n",
              "    .dataframe tbody tr th:only-of-type {\n",
              "        vertical-align: middle;\n",
              "    }\n",
              "\n",
              "    .dataframe tbody tr th {\n",
              "        vertical-align: top;\n",
              "    }\n",
              "\n",
              "    .dataframe thead th {\n",
              "        text-align: right;\n",
              "    }\n",
              "</style>\n",
              "<table border=\"1\" class=\"dataframe\">\n",
              "  <thead>\n",
              "    <tr style=\"text-align: right;\">\n",
              "      <th></th>\n",
              "      <th>date</th>\n",
              "      <th>Appliances</th>\n",
              "      <th>lights</th>\n",
              "      <th>T1</th>\n",
              "      <th>RH_1</th>\n",
              "      <th>T2</th>\n",
              "      <th>RH_2</th>\n",
              "      <th>T3</th>\n",
              "      <th>RH_3</th>\n",
              "      <th>T4</th>\n",
              "      <th>RH_4</th>\n",
              "      <th>T5</th>\n",
              "      <th>RH_5</th>\n",
              "      <th>T6</th>\n",
              "      <th>RH_6</th>\n",
              "      <th>T7</th>\n",
              "      <th>RH_7</th>\n",
              "      <th>T8</th>\n",
              "      <th>RH_8</th>\n",
              "      <th>T9</th>\n",
              "      <th>RH_9</th>\n",
              "      <th>T_out</th>\n",
              "      <th>Press_mm_hg</th>\n",
              "      <th>RH_out</th>\n",
              "      <th>Windspeed</th>\n",
              "      <th>Visibility</th>\n",
              "      <th>Tdewpoint</th>\n",
              "      <th>rv1</th>\n",
              "      <th>rv2</th>\n",
              "    </tr>\n",
              "  </thead>\n",
              "  <tbody>\n",
              "    <tr>\n",
              "      <th>19730</th>\n",
              "      <td>2016-05-27 17:20:00</td>\n",
              "      <td>100</td>\n",
              "      <td>0</td>\n",
              "      <td>25.566667</td>\n",
              "      <td>46.560000</td>\n",
              "      <td>25.890000</td>\n",
              "      <td>42.025714</td>\n",
              "      <td>27.200000</td>\n",
              "      <td>41.163333</td>\n",
              "      <td>24.7</td>\n",
              "      <td>45.590000</td>\n",
              "      <td>23.20</td>\n",
              "      <td>52.400000</td>\n",
              "      <td>24.796667</td>\n",
              "      <td>1.0</td>\n",
              "      <td>24.500000</td>\n",
              "      <td>44.500000</td>\n",
              "      <td>24.7000</td>\n",
              "      <td>50.07400</td>\n",
              "      <td>23.2</td>\n",
              "      <td>46.7900</td>\n",
              "      <td>22.733333</td>\n",
              "      <td>755.2</td>\n",
              "      <td>55.666667</td>\n",
              "      <td>3.333333</td>\n",
              "      <td>23.666667</td>\n",
              "      <td>13.333333</td>\n",
              "      <td>43.096812</td>\n",
              "      <td>43.096812</td>\n",
              "    </tr>\n",
              "    <tr>\n",
              "      <th>19731</th>\n",
              "      <td>2016-05-27 17:30:00</td>\n",
              "      <td>90</td>\n",
              "      <td>0</td>\n",
              "      <td>25.500000</td>\n",
              "      <td>46.500000</td>\n",
              "      <td>25.754000</td>\n",
              "      <td>42.080000</td>\n",
              "      <td>27.133333</td>\n",
              "      <td>41.223333</td>\n",
              "      <td>24.7</td>\n",
              "      <td>45.590000</td>\n",
              "      <td>23.23</td>\n",
              "      <td>52.326667</td>\n",
              "      <td>24.196667</td>\n",
              "      <td>1.0</td>\n",
              "      <td>24.557143</td>\n",
              "      <td>44.414286</td>\n",
              "      <td>24.7000</td>\n",
              "      <td>49.79000</td>\n",
              "      <td>23.2</td>\n",
              "      <td>46.7900</td>\n",
              "      <td>22.600000</td>\n",
              "      <td>755.2</td>\n",
              "      <td>56.000000</td>\n",
              "      <td>3.500000</td>\n",
              "      <td>24.500000</td>\n",
              "      <td>13.300000</td>\n",
              "      <td>49.282940</td>\n",
              "      <td>49.282940</td>\n",
              "    </tr>\n",
              "    <tr>\n",
              "      <th>19732</th>\n",
              "      <td>2016-05-27 17:40:00</td>\n",
              "      <td>270</td>\n",
              "      <td>10</td>\n",
              "      <td>25.500000</td>\n",
              "      <td>46.596667</td>\n",
              "      <td>25.628571</td>\n",
              "      <td>42.768571</td>\n",
              "      <td>27.050000</td>\n",
              "      <td>41.690000</td>\n",
              "      <td>24.7</td>\n",
              "      <td>45.730000</td>\n",
              "      <td>23.23</td>\n",
              "      <td>52.266667</td>\n",
              "      <td>23.626667</td>\n",
              "      <td>1.0</td>\n",
              "      <td>24.540000</td>\n",
              "      <td>44.400000</td>\n",
              "      <td>24.7000</td>\n",
              "      <td>49.66000</td>\n",
              "      <td>23.2</td>\n",
              "      <td>46.7900</td>\n",
              "      <td>22.466667</td>\n",
              "      <td>755.2</td>\n",
              "      <td>56.333333</td>\n",
              "      <td>3.666667</td>\n",
              "      <td>25.333333</td>\n",
              "      <td>13.266667</td>\n",
              "      <td>29.199117</td>\n",
              "      <td>29.199117</td>\n",
              "    </tr>\n",
              "    <tr>\n",
              "      <th>19733</th>\n",
              "      <td>2016-05-27 17:50:00</td>\n",
              "      <td>420</td>\n",
              "      <td>10</td>\n",
              "      <td>25.500000</td>\n",
              "      <td>46.990000</td>\n",
              "      <td>25.414000</td>\n",
              "      <td>43.036000</td>\n",
              "      <td>26.890000</td>\n",
              "      <td>41.290000</td>\n",
              "      <td>24.7</td>\n",
              "      <td>45.790000</td>\n",
              "      <td>23.20</td>\n",
              "      <td>52.200000</td>\n",
              "      <td>22.433333</td>\n",
              "      <td>1.0</td>\n",
              "      <td>24.500000</td>\n",
              "      <td>44.295714</td>\n",
              "      <td>24.6625</td>\n",
              "      <td>49.51875</td>\n",
              "      <td>23.2</td>\n",
              "      <td>46.8175</td>\n",
              "      <td>22.333333</td>\n",
              "      <td>755.2</td>\n",
              "      <td>56.666667</td>\n",
              "      <td>3.833333</td>\n",
              "      <td>26.166667</td>\n",
              "      <td>13.233333</td>\n",
              "      <td>6.322784</td>\n",
              "      <td>6.322784</td>\n",
              "    </tr>\n",
              "    <tr>\n",
              "      <th>19734</th>\n",
              "      <td>2016-05-27 18:00:00</td>\n",
              "      <td>430</td>\n",
              "      <td>10</td>\n",
              "      <td>25.500000</td>\n",
              "      <td>46.600000</td>\n",
              "      <td>25.264286</td>\n",
              "      <td>42.971429</td>\n",
              "      <td>26.823333</td>\n",
              "      <td>41.156667</td>\n",
              "      <td>24.7</td>\n",
              "      <td>45.963333</td>\n",
              "      <td>23.20</td>\n",
              "      <td>52.200000</td>\n",
              "      <td>21.026667</td>\n",
              "      <td>1.0</td>\n",
              "      <td>24.500000</td>\n",
              "      <td>44.054000</td>\n",
              "      <td>24.7360</td>\n",
              "      <td>49.73600</td>\n",
              "      <td>23.2</td>\n",
              "      <td>46.8450</td>\n",
              "      <td>22.200000</td>\n",
              "      <td>755.2</td>\n",
              "      <td>57.000000</td>\n",
              "      <td>4.000000</td>\n",
              "      <td>27.000000</td>\n",
              "      <td>13.200000</td>\n",
              "      <td>34.118851</td>\n",
              "      <td>34.118851</td>\n",
              "    </tr>\n",
              "  </tbody>\n",
              "</table>\n",
              "</div>"
            ],
            "text/plain": [
              "                      date  Appliances  lights  ...  Tdewpoint        rv1        rv2\n",
              "19730  2016-05-27 17:20:00         100       0  ...  13.333333  43.096812  43.096812\n",
              "19731  2016-05-27 17:30:00          90       0  ...  13.300000  49.282940  49.282940\n",
              "19732  2016-05-27 17:40:00         270      10  ...  13.266667  29.199117  29.199117\n",
              "19733  2016-05-27 17:50:00         420      10  ...  13.233333   6.322784   6.322784\n",
              "19734  2016-05-27 18:00:00         430      10  ...  13.200000  34.118851  34.118851\n",
              "\n",
              "[5 rows x 29 columns]"
            ]
          },
          "metadata": {},
          "execution_count": 18
        }
      ]
    },
    {
      "cell_type": "code",
      "metadata": {
        "colab": {
          "base_uri": "https://localhost:8080/",
          "height": 317
        },
        "id": "DZhKYTiHnBOy",
        "outputId": "ab09fce4-27a6-4708-d125-53908478af0d"
      },
      "source": [
        "slr.describe()"
      ],
      "execution_count": null,
      "outputs": [
        {
          "output_type": "execute_result",
          "data": {
            "text/html": [
              "<div>\n",
              "<style scoped>\n",
              "    .dataframe tbody tr th:only-of-type {\n",
              "        vertical-align: middle;\n",
              "    }\n",
              "\n",
              "    .dataframe tbody tr th {\n",
              "        vertical-align: top;\n",
              "    }\n",
              "\n",
              "    .dataframe thead th {\n",
              "        text-align: right;\n",
              "    }\n",
              "</style>\n",
              "<table border=\"1\" class=\"dataframe\">\n",
              "  <thead>\n",
              "    <tr style=\"text-align: right;\">\n",
              "      <th></th>\n",
              "      <th>Appliances</th>\n",
              "      <th>lights</th>\n",
              "      <th>T1</th>\n",
              "      <th>RH_1</th>\n",
              "      <th>T2</th>\n",
              "      <th>RH_2</th>\n",
              "      <th>T3</th>\n",
              "      <th>RH_3</th>\n",
              "      <th>T4</th>\n",
              "      <th>RH_4</th>\n",
              "      <th>T5</th>\n",
              "      <th>RH_5</th>\n",
              "      <th>T6</th>\n",
              "      <th>RH_6</th>\n",
              "      <th>T7</th>\n",
              "      <th>RH_7</th>\n",
              "      <th>T8</th>\n",
              "      <th>RH_8</th>\n",
              "      <th>T9</th>\n",
              "      <th>RH_9</th>\n",
              "      <th>T_out</th>\n",
              "      <th>Press_mm_hg</th>\n",
              "      <th>RH_out</th>\n",
              "      <th>Windspeed</th>\n",
              "      <th>Visibility</th>\n",
              "      <th>Tdewpoint</th>\n",
              "      <th>rv1</th>\n",
              "      <th>rv2</th>\n",
              "    </tr>\n",
              "  </thead>\n",
              "  <tbody>\n",
              "    <tr>\n",
              "      <th>count</th>\n",
              "      <td>19735.000000</td>\n",
              "      <td>19735.000000</td>\n",
              "      <td>19735.000000</td>\n",
              "      <td>19735.000000</td>\n",
              "      <td>19735.000000</td>\n",
              "      <td>19735.000000</td>\n",
              "      <td>19735.000000</td>\n",
              "      <td>19735.000000</td>\n",
              "      <td>19735.000000</td>\n",
              "      <td>19735.000000</td>\n",
              "      <td>19735.000000</td>\n",
              "      <td>19735.000000</td>\n",
              "      <td>19735.000000</td>\n",
              "      <td>19735.000000</td>\n",
              "      <td>19735.000000</td>\n",
              "      <td>19735.000000</td>\n",
              "      <td>19735.000000</td>\n",
              "      <td>19735.000000</td>\n",
              "      <td>19735.000000</td>\n",
              "      <td>19735.000000</td>\n",
              "      <td>19735.000000</td>\n",
              "      <td>19735.000000</td>\n",
              "      <td>19735.000000</td>\n",
              "      <td>19735.000000</td>\n",
              "      <td>19735.000000</td>\n",
              "      <td>19735.000000</td>\n",
              "      <td>19735.000000</td>\n",
              "      <td>19735.000000</td>\n",
              "    </tr>\n",
              "    <tr>\n",
              "      <th>mean</th>\n",
              "      <td>97.694958</td>\n",
              "      <td>3.801875</td>\n",
              "      <td>21.686571</td>\n",
              "      <td>40.259739</td>\n",
              "      <td>20.341219</td>\n",
              "      <td>40.420420</td>\n",
              "      <td>22.267611</td>\n",
              "      <td>39.242500</td>\n",
              "      <td>20.855335</td>\n",
              "      <td>39.026904</td>\n",
              "      <td>19.592106</td>\n",
              "      <td>50.949283</td>\n",
              "      <td>7.910939</td>\n",
              "      <td>54.609083</td>\n",
              "      <td>20.267106</td>\n",
              "      <td>35.388200</td>\n",
              "      <td>22.029107</td>\n",
              "      <td>42.936165</td>\n",
              "      <td>19.485828</td>\n",
              "      <td>41.552401</td>\n",
              "      <td>7.411665</td>\n",
              "      <td>755.522602</td>\n",
              "      <td>79.750418</td>\n",
              "      <td>4.039752</td>\n",
              "      <td>38.330834</td>\n",
              "      <td>3.760707</td>\n",
              "      <td>24.988033</td>\n",
              "      <td>24.988033</td>\n",
              "    </tr>\n",
              "    <tr>\n",
              "      <th>std</th>\n",
              "      <td>102.524891</td>\n",
              "      <td>7.935988</td>\n",
              "      <td>1.606066</td>\n",
              "      <td>3.979299</td>\n",
              "      <td>2.192974</td>\n",
              "      <td>4.069813</td>\n",
              "      <td>2.006111</td>\n",
              "      <td>3.254576</td>\n",
              "      <td>2.042884</td>\n",
              "      <td>4.341321</td>\n",
              "      <td>1.844623</td>\n",
              "      <td>9.022034</td>\n",
              "      <td>6.090347</td>\n",
              "      <td>31.149806</td>\n",
              "      <td>2.109993</td>\n",
              "      <td>5.114208</td>\n",
              "      <td>1.956162</td>\n",
              "      <td>5.224361</td>\n",
              "      <td>2.014712</td>\n",
              "      <td>4.151497</td>\n",
              "      <td>5.317409</td>\n",
              "      <td>7.399441</td>\n",
              "      <td>14.901088</td>\n",
              "      <td>2.451221</td>\n",
              "      <td>11.794719</td>\n",
              "      <td>4.194648</td>\n",
              "      <td>14.496634</td>\n",
              "      <td>14.496634</td>\n",
              "    </tr>\n",
              "    <tr>\n",
              "      <th>min</th>\n",
              "      <td>10.000000</td>\n",
              "      <td>0.000000</td>\n",
              "      <td>16.790000</td>\n",
              "      <td>27.023333</td>\n",
              "      <td>16.100000</td>\n",
              "      <td>20.463333</td>\n",
              "      <td>17.200000</td>\n",
              "      <td>28.766667</td>\n",
              "      <td>15.100000</td>\n",
              "      <td>27.660000</td>\n",
              "      <td>15.330000</td>\n",
              "      <td>29.815000</td>\n",
              "      <td>-6.065000</td>\n",
              "      <td>1.000000</td>\n",
              "      <td>15.390000</td>\n",
              "      <td>23.200000</td>\n",
              "      <td>16.306667</td>\n",
              "      <td>29.600000</td>\n",
              "      <td>14.890000</td>\n",
              "      <td>29.166667</td>\n",
              "      <td>-5.000000</td>\n",
              "      <td>729.300000</td>\n",
              "      <td>24.000000</td>\n",
              "      <td>0.000000</td>\n",
              "      <td>1.000000</td>\n",
              "      <td>-6.600000</td>\n",
              "      <td>0.005322</td>\n",
              "      <td>0.005322</td>\n",
              "    </tr>\n",
              "    <tr>\n",
              "      <th>25%</th>\n",
              "      <td>50.000000</td>\n",
              "      <td>0.000000</td>\n",
              "      <td>20.760000</td>\n",
              "      <td>37.333333</td>\n",
              "      <td>18.790000</td>\n",
              "      <td>37.900000</td>\n",
              "      <td>20.790000</td>\n",
              "      <td>36.900000</td>\n",
              "      <td>19.530000</td>\n",
              "      <td>35.530000</td>\n",
              "      <td>18.277500</td>\n",
              "      <td>45.400000</td>\n",
              "      <td>3.626667</td>\n",
              "      <td>30.025000</td>\n",
              "      <td>18.700000</td>\n",
              "      <td>31.500000</td>\n",
              "      <td>20.790000</td>\n",
              "      <td>39.066667</td>\n",
              "      <td>18.000000</td>\n",
              "      <td>38.500000</td>\n",
              "      <td>3.666667</td>\n",
              "      <td>750.933333</td>\n",
              "      <td>70.333333</td>\n",
              "      <td>2.000000</td>\n",
              "      <td>29.000000</td>\n",
              "      <td>0.900000</td>\n",
              "      <td>12.497889</td>\n",
              "      <td>12.497889</td>\n",
              "    </tr>\n",
              "    <tr>\n",
              "      <th>50%</th>\n",
              "      <td>60.000000</td>\n",
              "      <td>0.000000</td>\n",
              "      <td>21.600000</td>\n",
              "      <td>39.656667</td>\n",
              "      <td>20.000000</td>\n",
              "      <td>40.500000</td>\n",
              "      <td>22.100000</td>\n",
              "      <td>38.530000</td>\n",
              "      <td>20.666667</td>\n",
              "      <td>38.400000</td>\n",
              "      <td>19.390000</td>\n",
              "      <td>49.090000</td>\n",
              "      <td>7.300000</td>\n",
              "      <td>55.290000</td>\n",
              "      <td>20.033333</td>\n",
              "      <td>34.863333</td>\n",
              "      <td>22.100000</td>\n",
              "      <td>42.375000</td>\n",
              "      <td>19.390000</td>\n",
              "      <td>40.900000</td>\n",
              "      <td>6.916667</td>\n",
              "      <td>756.100000</td>\n",
              "      <td>83.666667</td>\n",
              "      <td>3.666667</td>\n",
              "      <td>40.000000</td>\n",
              "      <td>3.433333</td>\n",
              "      <td>24.897653</td>\n",
              "      <td>24.897653</td>\n",
              "    </tr>\n",
              "    <tr>\n",
              "      <th>75%</th>\n",
              "      <td>100.000000</td>\n",
              "      <td>0.000000</td>\n",
              "      <td>22.600000</td>\n",
              "      <td>43.066667</td>\n",
              "      <td>21.500000</td>\n",
              "      <td>43.260000</td>\n",
              "      <td>23.290000</td>\n",
              "      <td>41.760000</td>\n",
              "      <td>22.100000</td>\n",
              "      <td>42.156667</td>\n",
              "      <td>20.619643</td>\n",
              "      <td>53.663333</td>\n",
              "      <td>11.256000</td>\n",
              "      <td>83.226667</td>\n",
              "      <td>21.600000</td>\n",
              "      <td>39.000000</td>\n",
              "      <td>23.390000</td>\n",
              "      <td>46.536000</td>\n",
              "      <td>20.600000</td>\n",
              "      <td>44.338095</td>\n",
              "      <td>10.408333</td>\n",
              "      <td>760.933333</td>\n",
              "      <td>91.666667</td>\n",
              "      <td>5.500000</td>\n",
              "      <td>40.000000</td>\n",
              "      <td>6.566667</td>\n",
              "      <td>37.583769</td>\n",
              "      <td>37.583769</td>\n",
              "    </tr>\n",
              "    <tr>\n",
              "      <th>max</th>\n",
              "      <td>1080.000000</td>\n",
              "      <td>70.000000</td>\n",
              "      <td>26.260000</td>\n",
              "      <td>63.360000</td>\n",
              "      <td>29.856667</td>\n",
              "      <td>56.026667</td>\n",
              "      <td>29.236000</td>\n",
              "      <td>50.163333</td>\n",
              "      <td>26.200000</td>\n",
              "      <td>51.090000</td>\n",
              "      <td>25.795000</td>\n",
              "      <td>96.321667</td>\n",
              "      <td>28.290000</td>\n",
              "      <td>99.900000</td>\n",
              "      <td>26.000000</td>\n",
              "      <td>51.400000</td>\n",
              "      <td>27.230000</td>\n",
              "      <td>58.780000</td>\n",
              "      <td>24.500000</td>\n",
              "      <td>53.326667</td>\n",
              "      <td>26.100000</td>\n",
              "      <td>772.300000</td>\n",
              "      <td>100.000000</td>\n",
              "      <td>14.000000</td>\n",
              "      <td>66.000000</td>\n",
              "      <td>15.500000</td>\n",
              "      <td>49.996530</td>\n",
              "      <td>49.996530</td>\n",
              "    </tr>\n",
              "  </tbody>\n",
              "</table>\n",
              "</div>"
            ],
            "text/plain": [
              "         Appliances        lights  ...           rv1           rv2\n",
              "count  19735.000000  19735.000000  ...  19735.000000  19735.000000\n",
              "mean      97.694958      3.801875  ...     24.988033     24.988033\n",
              "std      102.524891      7.935988  ...     14.496634     14.496634\n",
              "min       10.000000      0.000000  ...      0.005322      0.005322\n",
              "25%       50.000000      0.000000  ...     12.497889     12.497889\n",
              "50%       60.000000      0.000000  ...     24.897653     24.897653\n",
              "75%      100.000000      0.000000  ...     37.583769     37.583769\n",
              "max     1080.000000     70.000000  ...     49.996530     49.996530\n",
              "\n",
              "[8 rows x 28 columns]"
            ]
          },
          "metadata": {},
          "execution_count": 19
        }
      ]
    },
    {
      "cell_type": "code",
      "metadata": {
        "colab": {
          "base_uri": "https://localhost:8080/"
        },
        "id": "gTEP8KOMnG2D",
        "outputId": "9aede898-2e4c-409c-8a10-d23d9a66b217"
      },
      "source": [
        "slr.dtypes"
      ],
      "execution_count": null,
      "outputs": [
        {
          "output_type": "execute_result",
          "data": {
            "text/plain": [
              "date            object\n",
              "Appliances       int64\n",
              "lights           int64\n",
              "T1             float64\n",
              "RH_1           float64\n",
              "T2             float64\n",
              "RH_2           float64\n",
              "T3             float64\n",
              "RH_3           float64\n",
              "T4             float64\n",
              "RH_4           float64\n",
              "T5             float64\n",
              "RH_5           float64\n",
              "T6             float64\n",
              "RH_6           float64\n",
              "T7             float64\n",
              "RH_7           float64\n",
              "T8             float64\n",
              "RH_8           float64\n",
              "T9             float64\n",
              "RH_9           float64\n",
              "T_out          float64\n",
              "Press_mm_hg    float64\n",
              "RH_out         float64\n",
              "Windspeed      float64\n",
              "Visibility     float64\n",
              "Tdewpoint      float64\n",
              "rv1            float64\n",
              "rv2            float64\n",
              "dtype: object"
            ]
          },
          "metadata": {},
          "execution_count": 21
        }
      ]
    },
    {
      "cell_type": "code",
      "metadata": {
        "colab": {
          "base_uri": "https://localhost:8080/"
        },
        "id": "qfeXC19EnVPj",
        "outputId": "da4ecf24-8af2-4165-a09d-ad5e181af5f4"
      },
      "source": [
        "slr.info()"
      ],
      "execution_count": null,
      "outputs": [
        {
          "output_type": "stream",
          "name": "stdout",
          "text": [
            "<class 'pandas.core.frame.DataFrame'>\n",
            "RangeIndex: 19735 entries, 0 to 19734\n",
            "Data columns (total 29 columns):\n",
            " #   Column       Non-Null Count  Dtype  \n",
            "---  ------       --------------  -----  \n",
            " 0   date         19735 non-null  object \n",
            " 1   Appliances   19735 non-null  int64  \n",
            " 2   lights       19735 non-null  int64  \n",
            " 3   T1           19735 non-null  float64\n",
            " 4   RH_1         19735 non-null  float64\n",
            " 5   T2           19735 non-null  float64\n",
            " 6   RH_2         19735 non-null  float64\n",
            " 7   T3           19735 non-null  float64\n",
            " 8   RH_3         19735 non-null  float64\n",
            " 9   T4           19735 non-null  float64\n",
            " 10  RH_4         19735 non-null  float64\n",
            " 11  T5           19735 non-null  float64\n",
            " 12  RH_5         19735 non-null  float64\n",
            " 13  T6           19735 non-null  float64\n",
            " 14  RH_6         19735 non-null  float64\n",
            " 15  T7           19735 non-null  float64\n",
            " 16  RH_7         19735 non-null  float64\n",
            " 17  T8           19735 non-null  float64\n",
            " 18  RH_8         19735 non-null  float64\n",
            " 19  T9           19735 non-null  float64\n",
            " 20  RH_9         19735 non-null  float64\n",
            " 21  T_out        19735 non-null  float64\n",
            " 22  Press_mm_hg  19735 non-null  float64\n",
            " 23  RH_out       19735 non-null  float64\n",
            " 24  Windspeed    19735 non-null  float64\n",
            " 25  Visibility   19735 non-null  float64\n",
            " 26  Tdewpoint    19735 non-null  float64\n",
            " 27  rv1          19735 non-null  float64\n",
            " 28  rv2          19735 non-null  float64\n",
            "dtypes: float64(26), int64(2), object(1)\n",
            "memory usage: 4.4+ MB\n"
          ]
        }
      ]
    },
    {
      "cell_type": "code",
      "metadata": {
        "colab": {
          "base_uri": "https://localhost:8080/"
        },
        "id": "iRNsYNVWnbfj",
        "outputId": "749b9ff0-662a-4a01-acb6-57a821bb4ef1"
      },
      "source": [
        "#Totoal number of duplicate rows present in this data.\n",
        "\n",
        "duplicate_rows = slr[slr.duplicated()]\n",
        "print(\"Number of duplicate rows:\",duplicate_rows.shape)\n",
        "\n"
      ],
      "execution_count": null,
      "outputs": [
        {
          "output_type": "stream",
          "name": "stdout",
          "text": [
            "Number of duplicate rows: (0, 29)\n"
          ]
        }
      ]
    },
    {
      "cell_type": "markdown",
      "metadata": {
        "id": "hua8Vw1AodbV"
      },
      "source": [
        "# In this dataset there are no duplicate rows"
      ]
    },
    {
      "cell_type": "markdown",
      "metadata": {
        "id": "ImWXFQMQwASO"
      },
      "source": [
        "# **Data Preparation and Cleaning**"
      ]
    },
    {
      "cell_type": "code",
      "metadata": {
        "colab": {
          "base_uri": "https://localhost:8080/"
        },
        "id": "by0VFR_Fox-m",
        "outputId": "58a2ec9b-eb77-4999-8097-731f420e99dc"
      },
      "source": [
        "slr[\"Appliances\"].isnull().sum()"
      ],
      "execution_count": null,
      "outputs": [
        {
          "output_type": "execute_result",
          "data": {
            "text/plain": [
              "0"
            ]
          },
          "metadata": {},
          "execution_count": 26
        }
      ]
    },
    {
      "cell_type": "code",
      "metadata": {
        "colab": {
          "base_uri": "https://localhost:8080/"
        },
        "id": "0AUos5yWo8iL",
        "outputId": "1044137d-e776-4fff-b1f7-c49ef5ad33e8"
      },
      "source": [
        "#null vales\n",
        "slr.isnull().sum().sort_values(ascending=False)"
      ],
      "execution_count": null,
      "outputs": [
        {
          "output_type": "execute_result",
          "data": {
            "text/plain": [
              "rv2            0\n",
              "T6             0\n",
              "Appliances     0\n",
              "lights         0\n",
              "T1             0\n",
              "RH_1           0\n",
              "T2             0\n",
              "RH_2           0\n",
              "T3             0\n",
              "RH_3           0\n",
              "T4             0\n",
              "RH_4           0\n",
              "T5             0\n",
              "RH_5           0\n",
              "RH_6           0\n",
              "rv1            0\n",
              "T7             0\n",
              "RH_7           0\n",
              "T8             0\n",
              "RH_8           0\n",
              "T9             0\n",
              "RH_9           0\n",
              "T_out          0\n",
              "Press_mm_hg    0\n",
              "RH_out         0\n",
              "Windspeed      0\n",
              "Visibility     0\n",
              "Tdewpoint      0\n",
              "date           0\n",
              "dtype: int64"
            ]
          },
          "metadata": {},
          "execution_count": 27
        }
      ]
    },
    {
      "cell_type": "markdown",
      "metadata": {
        "id": "B87q_uIepNDB"
      },
      "source": [
        "# As you can see there are no null values."
      ]
    },
    {
      "cell_type": "code",
      "metadata": {
        "id": "5jvGlF8OpUyW"
      },
      "source": [
        "slr= slr.drop(['date'], axis=1)"
      ],
      "execution_count": 8,
      "outputs": []
    },
    {
      "cell_type": "markdown",
      "metadata": {
        "id": "cWjHqPxPufE-"
      },
      "source": [
        "# Date dropping reason: As we are not trying to analyze the problem as Time Series rather regress on \"Appliance\" column."
      ]
    },
    {
      "cell_type": "markdown",
      "metadata": {
        "id": "rkMC4bM5ZCXp"
      },
      "source": [
        "# **Data Visualization**"
      ]
    },
    {
      "cell_type": "markdown",
      "metadata": {
        "id": "VbOrYxoqZS2W"
      },
      "source": [
        "Let's move on the extract information about data and also dealing with it."
      ]
    },
    {
      "cell_type": "code",
      "metadata": {
        "id": "gemk3QbEh8Mh"
      },
      "source": [
        "# 80% of the data is use for the training of the models and the rest is used for testing\n",
        "train, test = train_test_split(slr,test_size=0.20,random_state=40)"
      ],
      "execution_count": 75,
      "outputs": []
    },
    {
      "cell_type": "code",
      "metadata": {
        "colab": {
          "base_uri": "https://localhost:8080/",
          "height": 314
        },
        "id": "mE4LTiu1p1Fl",
        "outputId": "c9d71d11-b5c2-49c4-d6e0-c24870536f67"
      },
      "source": [
        "train.describe()"
      ],
      "execution_count": 74,
      "outputs": [
        {
          "output_type": "execute_result",
          "data": {
            "text/html": [
              "<div>\n",
              "<style scoped>\n",
              "    .dataframe tbody tr th:only-of-type {\n",
              "        vertical-align: middle;\n",
              "    }\n",
              "\n",
              "    .dataframe tbody tr th {\n",
              "        vertical-align: top;\n",
              "    }\n",
              "\n",
              "    .dataframe thead th {\n",
              "        text-align: right;\n",
              "    }\n",
              "</style>\n",
              "<table border=\"1\" class=\"dataframe\">\n",
              "  <thead>\n",
              "    <tr style=\"text-align: right;\">\n",
              "      <th></th>\n",
              "      <th>T1</th>\n",
              "      <th>T2</th>\n",
              "      <th>T3</th>\n",
              "      <th>T4</th>\n",
              "      <th>T5</th>\n",
              "      <th>T7</th>\n",
              "      <th>T8</th>\n",
              "      <th>RH_1</th>\n",
              "      <th>RH_2</th>\n",
              "      <th>RH_3</th>\n",
              "      <th>RH_4</th>\n",
              "      <th>RH_5</th>\n",
              "      <th>RH_6</th>\n",
              "      <th>RH_7</th>\n",
              "      <th>RH_8</th>\n",
              "      <th>RH_9</th>\n",
              "      <th>T_out</th>\n",
              "      <th>Tdewpoint</th>\n",
              "      <th>RH_out</th>\n",
              "      <th>Press_mm_hg</th>\n",
              "      <th>Windspeed</th>\n",
              "      <th>Appliances</th>\n",
              "    </tr>\n",
              "  </thead>\n",
              "  <tbody>\n",
              "    <tr>\n",
              "      <th>count</th>\n",
              "      <td>19735.000000</td>\n",
              "      <td>19735.000000</td>\n",
              "      <td>19735.000000</td>\n",
              "      <td>19735.000000</td>\n",
              "      <td>19735.000000</td>\n",
              "      <td>19735.000000</td>\n",
              "      <td>19735.000000</td>\n",
              "      <td>19735.000000</td>\n",
              "      <td>19735.000000</td>\n",
              "      <td>19735.000000</td>\n",
              "      <td>19735.000000</td>\n",
              "      <td>19735.000000</td>\n",
              "      <td>19735.000000</td>\n",
              "      <td>19735.000000</td>\n",
              "      <td>19735.000000</td>\n",
              "      <td>19735.000000</td>\n",
              "      <td>19735.000000</td>\n",
              "      <td>19735.000000</td>\n",
              "      <td>19735.000000</td>\n",
              "      <td>19735.000000</td>\n",
              "      <td>19735.000000</td>\n",
              "      <td>19735.000000</td>\n",
              "    </tr>\n",
              "    <tr>\n",
              "      <th>mean</th>\n",
              "      <td>21.686571</td>\n",
              "      <td>20.341219</td>\n",
              "      <td>22.267611</td>\n",
              "      <td>20.855335</td>\n",
              "      <td>19.592106</td>\n",
              "      <td>20.267106</td>\n",
              "      <td>22.029107</td>\n",
              "      <td>40.259739</td>\n",
              "      <td>40.420420</td>\n",
              "      <td>39.242500</td>\n",
              "      <td>39.026904</td>\n",
              "      <td>50.949283</td>\n",
              "      <td>54.609083</td>\n",
              "      <td>35.388200</td>\n",
              "      <td>42.936165</td>\n",
              "      <td>41.552401</td>\n",
              "      <td>7.411665</td>\n",
              "      <td>3.760707</td>\n",
              "      <td>79.750418</td>\n",
              "      <td>755.522602</td>\n",
              "      <td>4.039752</td>\n",
              "      <td>97.694958</td>\n",
              "    </tr>\n",
              "    <tr>\n",
              "      <th>std</th>\n",
              "      <td>1.606066</td>\n",
              "      <td>2.192974</td>\n",
              "      <td>2.006111</td>\n",
              "      <td>2.042884</td>\n",
              "      <td>1.844623</td>\n",
              "      <td>2.109993</td>\n",
              "      <td>1.956162</td>\n",
              "      <td>3.979299</td>\n",
              "      <td>4.069813</td>\n",
              "      <td>3.254576</td>\n",
              "      <td>4.341321</td>\n",
              "      <td>9.022034</td>\n",
              "      <td>31.149806</td>\n",
              "      <td>5.114208</td>\n",
              "      <td>5.224361</td>\n",
              "      <td>4.151497</td>\n",
              "      <td>5.317409</td>\n",
              "      <td>4.194648</td>\n",
              "      <td>14.901088</td>\n",
              "      <td>7.399441</td>\n",
              "      <td>2.451221</td>\n",
              "      <td>102.524891</td>\n",
              "    </tr>\n",
              "    <tr>\n",
              "      <th>min</th>\n",
              "      <td>16.790000</td>\n",
              "      <td>16.100000</td>\n",
              "      <td>17.200000</td>\n",
              "      <td>15.100000</td>\n",
              "      <td>15.330000</td>\n",
              "      <td>15.390000</td>\n",
              "      <td>16.306667</td>\n",
              "      <td>27.023333</td>\n",
              "      <td>20.463333</td>\n",
              "      <td>28.766667</td>\n",
              "      <td>27.660000</td>\n",
              "      <td>29.815000</td>\n",
              "      <td>1.000000</td>\n",
              "      <td>23.200000</td>\n",
              "      <td>29.600000</td>\n",
              "      <td>29.166667</td>\n",
              "      <td>-5.000000</td>\n",
              "      <td>-6.600000</td>\n",
              "      <td>24.000000</td>\n",
              "      <td>729.300000</td>\n",
              "      <td>0.000000</td>\n",
              "      <td>10.000000</td>\n",
              "    </tr>\n",
              "    <tr>\n",
              "      <th>25%</th>\n",
              "      <td>20.760000</td>\n",
              "      <td>18.790000</td>\n",
              "      <td>20.790000</td>\n",
              "      <td>19.530000</td>\n",
              "      <td>18.277500</td>\n",
              "      <td>18.700000</td>\n",
              "      <td>20.790000</td>\n",
              "      <td>37.333333</td>\n",
              "      <td>37.900000</td>\n",
              "      <td>36.900000</td>\n",
              "      <td>35.530000</td>\n",
              "      <td>45.400000</td>\n",
              "      <td>30.025000</td>\n",
              "      <td>31.500000</td>\n",
              "      <td>39.066667</td>\n",
              "      <td>38.500000</td>\n",
              "      <td>3.666667</td>\n",
              "      <td>0.900000</td>\n",
              "      <td>70.333333</td>\n",
              "      <td>750.933333</td>\n",
              "      <td>2.000000</td>\n",
              "      <td>50.000000</td>\n",
              "    </tr>\n",
              "    <tr>\n",
              "      <th>50%</th>\n",
              "      <td>21.600000</td>\n",
              "      <td>20.000000</td>\n",
              "      <td>22.100000</td>\n",
              "      <td>20.666667</td>\n",
              "      <td>19.390000</td>\n",
              "      <td>20.033333</td>\n",
              "      <td>22.100000</td>\n",
              "      <td>39.656667</td>\n",
              "      <td>40.500000</td>\n",
              "      <td>38.530000</td>\n",
              "      <td>38.400000</td>\n",
              "      <td>49.090000</td>\n",
              "      <td>55.290000</td>\n",
              "      <td>34.863333</td>\n",
              "      <td>42.375000</td>\n",
              "      <td>40.900000</td>\n",
              "      <td>6.916667</td>\n",
              "      <td>3.433333</td>\n",
              "      <td>83.666667</td>\n",
              "      <td>756.100000</td>\n",
              "      <td>3.666667</td>\n",
              "      <td>60.000000</td>\n",
              "    </tr>\n",
              "    <tr>\n",
              "      <th>75%</th>\n",
              "      <td>22.600000</td>\n",
              "      <td>21.500000</td>\n",
              "      <td>23.290000</td>\n",
              "      <td>22.100000</td>\n",
              "      <td>20.619643</td>\n",
              "      <td>21.600000</td>\n",
              "      <td>23.390000</td>\n",
              "      <td>43.066667</td>\n",
              "      <td>43.260000</td>\n",
              "      <td>41.760000</td>\n",
              "      <td>42.156667</td>\n",
              "      <td>53.663333</td>\n",
              "      <td>83.226667</td>\n",
              "      <td>39.000000</td>\n",
              "      <td>46.536000</td>\n",
              "      <td>44.338095</td>\n",
              "      <td>10.408333</td>\n",
              "      <td>6.566667</td>\n",
              "      <td>91.666667</td>\n",
              "      <td>760.933333</td>\n",
              "      <td>5.500000</td>\n",
              "      <td>100.000000</td>\n",
              "    </tr>\n",
              "    <tr>\n",
              "      <th>max</th>\n",
              "      <td>26.260000</td>\n",
              "      <td>29.856667</td>\n",
              "      <td>29.236000</td>\n",
              "      <td>26.200000</td>\n",
              "      <td>25.795000</td>\n",
              "      <td>26.000000</td>\n",
              "      <td>27.230000</td>\n",
              "      <td>63.360000</td>\n",
              "      <td>56.026667</td>\n",
              "      <td>50.163333</td>\n",
              "      <td>51.090000</td>\n",
              "      <td>96.321667</td>\n",
              "      <td>99.900000</td>\n",
              "      <td>51.400000</td>\n",
              "      <td>58.780000</td>\n",
              "      <td>53.326667</td>\n",
              "      <td>26.100000</td>\n",
              "      <td>15.500000</td>\n",
              "      <td>100.000000</td>\n",
              "      <td>772.300000</td>\n",
              "      <td>14.000000</td>\n",
              "      <td>1080.000000</td>\n",
              "    </tr>\n",
              "  </tbody>\n",
              "</table>\n",
              "</div>"
            ],
            "text/plain": [
              "                 T1            T2  ...     Windspeed    Appliances\n",
              "count  19735.000000  19735.000000  ...  19735.000000  19735.000000\n",
              "mean      21.686571     20.341219  ...      4.039752     97.694958\n",
              "std        1.606066      2.192974  ...      2.451221    102.524891\n",
              "min       16.790000     16.100000  ...      0.000000     10.000000\n",
              "25%       20.760000     18.790000  ...      2.000000     50.000000\n",
              "50%       21.600000     20.000000  ...      3.666667     60.000000\n",
              "75%       22.600000     21.500000  ...      5.500000    100.000000\n",
              "max       26.260000     29.856667  ...     14.000000   1080.000000\n",
              "\n",
              "[8 rows x 22 columns]"
            ]
          },
          "metadata": {},
          "execution_count": 74
        }
      ]
    },
    {
      "cell_type": "code",
      "metadata": {
        "colab": {
          "base_uri": "https://localhost:8080/",
          "height": 314
        },
        "id": "nj2XkXZIqZb1",
        "outputId": "de981775-c283-4d01-bb3f-49e4543bbe14"
      },
      "source": [
        "test.describe()"
      ],
      "execution_count": 77,
      "outputs": [
        {
          "output_type": "execute_result",
          "data": {
            "text/html": [
              "<div>\n",
              "<style scoped>\n",
              "    .dataframe tbody tr th:only-of-type {\n",
              "        vertical-align: middle;\n",
              "    }\n",
              "\n",
              "    .dataframe tbody tr th {\n",
              "        vertical-align: top;\n",
              "    }\n",
              "\n",
              "    .dataframe thead th {\n",
              "        text-align: right;\n",
              "    }\n",
              "</style>\n",
              "<table border=\"1\" class=\"dataframe\">\n",
              "  <thead>\n",
              "    <tr style=\"text-align: right;\">\n",
              "      <th></th>\n",
              "      <th>Appliances</th>\n",
              "      <th>T1</th>\n",
              "      <th>RH_1</th>\n",
              "      <th>T2</th>\n",
              "      <th>RH_2</th>\n",
              "      <th>T3</th>\n",
              "      <th>RH_3</th>\n",
              "      <th>T4</th>\n",
              "      <th>RH_4</th>\n",
              "      <th>T5</th>\n",
              "      <th>RH_5</th>\n",
              "      <th>T6</th>\n",
              "      <th>RH_6</th>\n",
              "      <th>T7</th>\n",
              "      <th>RH_7</th>\n",
              "      <th>T8</th>\n",
              "      <th>RH_8</th>\n",
              "      <th>T9</th>\n",
              "      <th>RH_9</th>\n",
              "      <th>T_out</th>\n",
              "      <th>Press_mm_hg</th>\n",
              "      <th>RH_out</th>\n",
              "      <th>Windspeed</th>\n",
              "      <th>Visibility</th>\n",
              "      <th>Tdewpoint</th>\n",
              "      <th>rv1</th>\n",
              "      <th>rv2</th>\n",
              "    </tr>\n",
              "  </thead>\n",
              "  <tbody>\n",
              "    <tr>\n",
              "      <th>count</th>\n",
              "      <td>3947.000000</td>\n",
              "      <td>3947.000000</td>\n",
              "      <td>3947.000000</td>\n",
              "      <td>3947.000000</td>\n",
              "      <td>3947.000000</td>\n",
              "      <td>3947.000000</td>\n",
              "      <td>3947.000000</td>\n",
              "      <td>3947.000000</td>\n",
              "      <td>3947.000000</td>\n",
              "      <td>3947.000000</td>\n",
              "      <td>3947.000000</td>\n",
              "      <td>3947.000000</td>\n",
              "      <td>3947.000000</td>\n",
              "      <td>3947.000000</td>\n",
              "      <td>3947.000000</td>\n",
              "      <td>3947.000000</td>\n",
              "      <td>3947.000000</td>\n",
              "      <td>3947.000000</td>\n",
              "      <td>3947.000000</td>\n",
              "      <td>3947.000000</td>\n",
              "      <td>3947.000000</td>\n",
              "      <td>3947.000000</td>\n",
              "      <td>3947.000000</td>\n",
              "      <td>3947.000000</td>\n",
              "      <td>3947.000000</td>\n",
              "      <td>3947.000000</td>\n",
              "      <td>3947.000000</td>\n",
              "    </tr>\n",
              "    <tr>\n",
              "      <th>mean</th>\n",
              "      <td>98.381049</td>\n",
              "      <td>21.718784</td>\n",
              "      <td>40.250125</td>\n",
              "      <td>20.369996</td>\n",
              "      <td>40.395134</td>\n",
              "      <td>22.297711</td>\n",
              "      <td>39.209410</td>\n",
              "      <td>20.875381</td>\n",
              "      <td>39.004637</td>\n",
              "      <td>19.626775</td>\n",
              "      <td>51.065182</td>\n",
              "      <td>7.928915</td>\n",
              "      <td>54.376806</td>\n",
              "      <td>20.301436</td>\n",
              "      <td>35.359872</td>\n",
              "      <td>22.050066</td>\n",
              "      <td>42.897184</td>\n",
              "      <td>19.514633</td>\n",
              "      <td>41.516631</td>\n",
              "      <td>7.429348</td>\n",
              "      <td>755.410896</td>\n",
              "      <td>79.652027</td>\n",
              "      <td>3.993247</td>\n",
              "      <td>38.088513</td>\n",
              "      <td>3.762034</td>\n",
              "      <td>24.840928</td>\n",
              "      <td>24.840928</td>\n",
              "    </tr>\n",
              "    <tr>\n",
              "      <th>std</th>\n",
              "      <td>101.960204</td>\n",
              "      <td>1.604995</td>\n",
              "      <td>3.969030</td>\n",
              "      <td>2.192215</td>\n",
              "      <td>4.044012</td>\n",
              "      <td>2.031232</td>\n",
              "      <td>3.240859</td>\n",
              "      <td>2.052530</td>\n",
              "      <td>4.299972</td>\n",
              "      <td>1.853380</td>\n",
              "      <td>9.278646</td>\n",
              "      <td>6.161386</td>\n",
              "      <td>31.239477</td>\n",
              "      <td>2.129884</td>\n",
              "      <td>5.064260</td>\n",
              "      <td>1.971198</td>\n",
              "      <td>5.166447</td>\n",
              "      <td>2.034639</td>\n",
              "      <td>4.104207</td>\n",
              "      <td>5.388713</td>\n",
              "      <td>7.420484</td>\n",
              "      <td>14.793748</td>\n",
              "      <td>2.440037</td>\n",
              "      <td>11.741336</td>\n",
              "      <td>4.223504</td>\n",
              "      <td>14.359756</td>\n",
              "      <td>14.359756</td>\n",
              "    </tr>\n",
              "    <tr>\n",
              "      <th>min</th>\n",
              "      <td>10.000000</td>\n",
              "      <td>16.790000</td>\n",
              "      <td>27.023333</td>\n",
              "      <td>16.100000</td>\n",
              "      <td>21.040000</td>\n",
              "      <td>17.290000</td>\n",
              "      <td>28.860000</td>\n",
              "      <td>15.100000</td>\n",
              "      <td>28.778000</td>\n",
              "      <td>15.345000</td>\n",
              "      <td>30.030000</td>\n",
              "      <td>-6.010000</td>\n",
              "      <td>1.000000</td>\n",
              "      <td>15.396111</td>\n",
              "      <td>23.290000</td>\n",
              "      <td>16.362222</td>\n",
              "      <td>29.600000</td>\n",
              "      <td>14.890000</td>\n",
              "      <td>29.200000</td>\n",
              "      <td>-4.900000</td>\n",
              "      <td>729.300000</td>\n",
              "      <td>25.333333</td>\n",
              "      <td>0.000000</td>\n",
              "      <td>1.000000</td>\n",
              "      <td>-6.500000</td>\n",
              "      <td>0.005322</td>\n",
              "      <td>0.005322</td>\n",
              "    </tr>\n",
              "    <tr>\n",
              "      <th>25%</th>\n",
              "      <td>50.000000</td>\n",
              "      <td>20.790000</td>\n",
              "      <td>37.300000</td>\n",
              "      <td>18.890000</td>\n",
              "      <td>37.790000</td>\n",
              "      <td>20.790000</td>\n",
              "      <td>36.900000</td>\n",
              "      <td>19.600000</td>\n",
              "      <td>35.557000</td>\n",
              "      <td>18.260000</td>\n",
              "      <td>45.400000</td>\n",
              "      <td>3.530000</td>\n",
              "      <td>29.936429</td>\n",
              "      <td>18.721500</td>\n",
              "      <td>31.426667</td>\n",
              "      <td>20.790000</td>\n",
              "      <td>39.030000</td>\n",
              "      <td>18.063333</td>\n",
              "      <td>38.530000</td>\n",
              "      <td>3.600000</td>\n",
              "      <td>750.700000</td>\n",
              "      <td>70.333333</td>\n",
              "      <td>2.000000</td>\n",
              "      <td>29.000000</td>\n",
              "      <td>0.850000</td>\n",
              "      <td>12.375697</td>\n",
              "      <td>12.375697</td>\n",
              "    </tr>\n",
              "    <tr>\n",
              "      <th>50%</th>\n",
              "      <td>60.000000</td>\n",
              "      <td>21.600000</td>\n",
              "      <td>39.693333</td>\n",
              "      <td>20.000000</td>\n",
              "      <td>40.466667</td>\n",
              "      <td>22.100000</td>\n",
              "      <td>38.500000</td>\n",
              "      <td>20.666667</td>\n",
              "      <td>38.400000</td>\n",
              "      <td>19.390000</td>\n",
              "      <td>49.000000</td>\n",
              "      <td>7.300000</td>\n",
              "      <td>54.966667</td>\n",
              "      <td>20.100000</td>\n",
              "      <td>34.790000</td>\n",
              "      <td>22.133333</td>\n",
              "      <td>42.290000</td>\n",
              "      <td>19.390000</td>\n",
              "      <td>40.900000</td>\n",
              "      <td>6.900000</td>\n",
              "      <td>756.100000</td>\n",
              "      <td>83.500000</td>\n",
              "      <td>3.500000</td>\n",
              "      <td>40.000000</td>\n",
              "      <td>3.400000</td>\n",
              "      <td>24.768926</td>\n",
              "      <td>24.768926</td>\n",
              "    </tr>\n",
              "    <tr>\n",
              "      <th>75%</th>\n",
              "      <td>100.000000</td>\n",
              "      <td>22.700000</td>\n",
              "      <td>43.060000</td>\n",
              "      <td>21.500000</td>\n",
              "      <td>43.126667</td>\n",
              "      <td>23.390000</td>\n",
              "      <td>41.663333</td>\n",
              "      <td>22.100000</td>\n",
              "      <td>42.090000</td>\n",
              "      <td>20.619643</td>\n",
              "      <td>53.700000</td>\n",
              "      <td>11.166667</td>\n",
              "      <td>83.156667</td>\n",
              "      <td>21.633333</td>\n",
              "      <td>39.033000</td>\n",
              "      <td>23.390000</td>\n",
              "      <td>46.516667</td>\n",
              "      <td>20.600000</td>\n",
              "      <td>44.290000</td>\n",
              "      <td>10.433333</td>\n",
              "      <td>760.800000</td>\n",
              "      <td>91.333333</td>\n",
              "      <td>5.333333</td>\n",
              "      <td>40.000000</td>\n",
              "      <td>6.575000</td>\n",
              "      <td>37.083798</td>\n",
              "      <td>37.083798</td>\n",
              "    </tr>\n",
              "    <tr>\n",
              "      <th>max</th>\n",
              "      <td>1070.000000</td>\n",
              "      <td>26.200000</td>\n",
              "      <td>56.393333</td>\n",
              "      <td>29.790000</td>\n",
              "      <td>54.090000</td>\n",
              "      <td>29.236000</td>\n",
              "      <td>48.923333</td>\n",
              "      <td>26.180000</td>\n",
              "      <td>50.963333</td>\n",
              "      <td>25.466667</td>\n",
              "      <td>95.388333</td>\n",
              "      <td>28.236000</td>\n",
              "      <td>99.900000</td>\n",
              "      <td>26.000000</td>\n",
              "      <td>51.197778</td>\n",
              "      <td>27.200000</td>\n",
              "      <td>58.310556</td>\n",
              "      <td>24.500000</td>\n",
              "      <td>53.163333</td>\n",
              "      <td>25.966667</td>\n",
              "      <td>772.200000</td>\n",
              "      <td>100.000000</td>\n",
              "      <td>13.500000</td>\n",
              "      <td>66.000000</td>\n",
              "      <td>15.316667</td>\n",
              "      <td>49.996530</td>\n",
              "      <td>49.996530</td>\n",
              "    </tr>\n",
              "  </tbody>\n",
              "</table>\n",
              "</div>"
            ],
            "text/plain": [
              "        Appliances           T1  ...          rv1          rv2\n",
              "count  3947.000000  3947.000000  ...  3947.000000  3947.000000\n",
              "mean     98.381049    21.718784  ...    24.840928    24.840928\n",
              "std     101.960204     1.604995  ...    14.359756    14.359756\n",
              "min      10.000000    16.790000  ...     0.005322     0.005322\n",
              "25%      50.000000    20.790000  ...    12.375697    12.375697\n",
              "50%      60.000000    21.600000  ...    24.768926    24.768926\n",
              "75%     100.000000    22.700000  ...    37.083798    37.083798\n",
              "max    1070.000000    26.200000  ...    49.996530    49.996530\n",
              "\n",
              "[8 rows x 27 columns]"
            ]
          },
          "metadata": {},
          "execution_count": 77
        }
      ]
    },
    {
      "cell_type": "code",
      "metadata": {
        "id": "zVk1NlZ54mq7"
      },
      "source": [
        "## Divide the columns based on type for clear column management \n",
        "\n",
        "col_temp = [\"T1\",\"T2\",\"T3\",\"T4\",\"T5\",\"T6\",\"T7\",\"T8\",\"T9\"]\n",
        "\n",
        "col_hum = [\"RH_1\",\"RH_2\",\"RH_3\",\"RH_4\",\"RH_5\",\"RH_6\",\"RH_7\",\"RH_8\",\"RH_9\"]\n",
        "\n",
        "col_weather = [\"T_out\", \"Tdewpoint\",\"RH_out\",\"Press_mm_hg\",\n",
        "                \"Windspeed\",\"Visibility\"] \n",
        "col_light = [\"lights\"]\n",
        "col_randoms = [\"rv1\", \"rv2\"]\n",
        "\n",
        "col_target = [\"Appliances\"]"
      ],
      "execution_count": 76,
      "outputs": []
    },
    {
      "cell_type": "code",
      "metadata": {
        "id": "1HGs3vaWifpt"
      },
      "source": [
        "# Seperate dependent and independent variables \n",
        "feature_vars = train[col_temp + col_hum + col_weather + col_light + col_randoms ]\n",
        "target_vars = train[col_target]"
      ],
      "execution_count": 14,
      "outputs": []
    },
    {
      "cell_type": "code",
      "metadata": {
        "id": "ijwoqjfrqKkK"
      },
      "source": [
        "feature_vars.describe()"
      ],
      "execution_count": null,
      "outputs": []
    },
    {
      "cell_type": "code",
      "metadata": {
        "id": "5nXJjq7_dSRi"
      },
      "source": [
        "# Check the distribution of values in lights column\n",
        "feature_vars.lights.value_counts()"
      ],
      "execution_count": null,
      "outputs": []
    },
    {
      "cell_type": "code",
      "metadata": {
        "id": "FGwMF5xK6Z8f"
      },
      "source": [
        "target_vars.describe()"
      ],
      "execution_count": null,
      "outputs": []
    },
    {
      "cell_type": "markdown",
      "metadata": {
        "id": "hXshyOSWjFzE"
      },
      "source": [
        "# **Observations**\n",
        "Temperature columns - Temperature inside the house varies between 14.89 Deg & 29.85 Deg , temperatire outside (T6) varies between -6.06 Deg to 28.29 Deg . The reason for this variation is sensors are kept outside the house\n",
        "\n",
        "Humidiy columns - Humidity inside house varies is between 20.60% to 63.36% with exception of RH_5 (Bathroom) and RH_6 (Outside house) which varies between 29.82% to 96.32% and 1% to 99.9% respectively.\n",
        "\n",
        "Appliances - 75% of Appliance consumption is less than 100 Wh . With the maximum consumption of 1080 Wh , there will be outliers in this column and there are small number of cases where consumption is very high\n",
        "\n",
        "Lights column - Intially I believed lights column will be able to give useful information . With 11438 0 (zero) enteries in 14801 rows , this column will not add any value to the model . I believed light consumption along with humidity level in a room will give idea about human presence in the room and hence its impact on Appliance consumption. Hence for now , I will dropping this column"
      ]
    },
    {
      "cell_type": "code",
      "metadata": {
        "id": "9IPaUB8Bq6PZ"
      },
      "source": [
        "# Due to lot of zero enteries this column is of not much use and will be ignored in rest of the model\n",
        "l1 = slr.drop(['lights'], axis=1 , inplace= True) ;"
      ],
      "execution_count": 12,
      "outputs": []
    },
    {
      "cell_type": "code",
      "metadata": {
        "id": "rsYFGnjarAyo"
      },
      "source": [
        "feature_vars.head(2)"
      ],
      "execution_count": null,
      "outputs": []
    },
    {
      "cell_type": "markdown",
      "metadata": {
        "id": "5M5Zh_m6jUjG"
      },
      "source": [
        "# **Data Visualization**"
      ]
    },
    {
      "cell_type": "code",
      "metadata": {
        "id": "caPmV8r5rL9I"
      },
      "source": [
        "# Histogram of all the features to understand the distribution\n",
        "feature_vars.hist(bins = 20 , figsize= (12,16),color='green') ;"
      ],
      "execution_count": null,
      "outputs": []
    },
    {
      "cell_type": "markdown",
      "metadata": {
        "id": "27PNEQjjP9Ym"
      },
      "source": [
        "### Focussed displots for RH_6 , RH_out , rv1 , rv2 , Visibility , Windspeed due to irregular distribution"
      ]
    },
    {
      "cell_type": "markdown",
      "metadata": {
        "id": "AJ_G_fwiQwzi"
      },
      "source": [
        "### Using Plotly helps us visualize data better as it allows us to interact with the plot like zoom in to the distribution and hover around to locate the values corresponding to axis value"
      ]
    },
    {
      "cell_type": "code",
      "metadata": {
        "id": "fKdOOPP0r2f5"
      },
      "source": [
        "# focussed displots for RH_6 , RH_out , Visibility , Windspeed due to irregular distribution\n",
        "f, ax = plt.subplots(2,3,figsize=(12,8))\n",
        "vis1 = sns.distplot(feature_vars[\"RH_6\"],bins=10, ax= ax[0][0])\n",
        "vis2 = sns.distplot(feature_vars[\"RH_out\"],bins=10, ax=ax[0][1])\n",
        "vis3 = sns.distplot(feature_vars[\"Visibility\"],bins=10, ax=ax[1][0])\n",
        "vis4 = sns.distplot(feature_vars[\"Windspeed\"],bins=10, ax=ax[1][1])\n",
        "vis5 = sns.distplot(feature_vars[\"rv1\"],bins=10, ax=ax[0][2])\n",
        "vis6 = sns.distplot(feature_vars[\"rv2\"],bins=10, ax=ax[1][2])"
      ],
      "execution_count": null,
      "outputs": []
    },
    {
      "cell_type": "code",
      "metadata": {
        "id": "v1BN-5ZesDW6"
      },
      "source": [
        "# Distribution of values in Applainces column\n",
        "target_vars.hist(color='green',bins=10)"
      ],
      "execution_count": null,
      "outputs": []
    },
    {
      "cell_type": "code",
      "metadata": {
        "id": "3WGf4uMHsQaK"
      },
      "source": [
        "sns.set(rc={'figure.figsize':(12,6)})\n",
        "plt.xlabel('Appliance consumption in Wh')\n",
        "plt.ylabel('Frequency')\n",
        "sns.distplot(target_vars ,color=\"r\",bins=10)"
      ],
      "execution_count": null,
      "outputs": []
    },
    {
      "cell_type": "code",
      "metadata": {
        "id": "KifDl0w-sWLy"
      },
      "source": [
        "# Check the distribution of values in Appliances column\n",
        "slr['Appliances'].value_counts().head(15)"
      ],
      "execution_count": null,
      "outputs": []
    },
    {
      "cell_type": "markdown",
      "metadata": {
        "id": "XN-RrUoUQvih"
      },
      "source": [
        "# **Observations**\n",
        "Temperature - All the columns follow normal distribution except T9     \n",
        "Humidity - All columns follow normal distribution except RH_6 and RH_out ,     primarly because these sensors are outside the house     \n",
        "Appliance - This column is postively skewed , most the values are around mean   100 Wh . There are outliers in this column     \n",
        "Visibilty - This column is negatively skewed        \n",
        "Windspeed - This column is postively skewed      "
      ]
    },
    {
      "cell_type": "code",
      "metadata": {
        "colab": {
          "base_uri": "https://localhost:8080/"
        },
        "id": "2izwjCmeslT7",
        "outputId": "b803d152-695c-4e5a-ba53-688aa869323a"
      },
      "source": [
        "#Appliance column range with consumption less than 200 Wh\n",
        "print('Percentage of the appliance consumption is less than 200 Wh')\n",
        "print(((target_vars[target_vars <= 200].count()) / (len(target_vars)))*100 )"
      ],
      "execution_count": null,
      "outputs": [
        {
          "output_type": "stream",
          "name": "stdout",
          "text": [
            "Percentage of the appliance consumption is less than 200 Wh\n",
            "Appliances    90.315429\n",
            "dtype: float64\n"
          ]
        }
      ]
    },
    {
      "cell_type": "markdown",
      "metadata": {
        "id": "Mwl_1m1WSP66"
      },
      "source": [
        "# **Correlation Plots**"
      ]
    },
    {
      "cell_type": "code",
      "metadata": {
        "id": "M-H99n2xs_08"
      },
      "source": [
        "# Correlatrion of all about data\n",
        "\n",
        "sns.set(rc={'figure.figsize':(15,12)})\n",
        "slr = slr.corr().round(2)\n",
        "sns.heatmap(data=slr, annot=True,cmap=\"vlag\")"
      ],
      "execution_count": null,
      "outputs": []
    },
    {
      "cell_type": "code",
      "metadata": {
        "id": "9f7NH7xGvIUe"
      },
      "source": [
        "# Use the weather , temperature , applainces and random column to see the correlation\n",
        "\n",
        "train_corr = train[col_temp + col_hum + col_weather +col_target+col_randoms]\n",
        "corr = train_corr.corr()\n",
        "# Mask the repeated values\n",
        "mask = np.zeros_like(corr, dtype=np.bool)\n",
        "mask[np.triu_indices_from(mask)] = True\n",
        "  \n",
        "f, ax = plt.subplots(figsize=(16, 14))\n",
        "#Generate Heat Map, allow annotations and place floats in map\n",
        "sns.heatmap(corr, annot=True, fmt=\".2f\" , mask=mask,)\n",
        "    #Apply xticks\n",
        "plt.xticks(range(len(corr.columns)), corr.columns);\n",
        "    #Apply yticks\n",
        "plt.yticks(range(len(corr.columns)), corr.columns)\n",
        "    #show plot\n",
        "plt.show()"
      ],
      "execution_count": null,
      "outputs": []
    },
    {
      "cell_type": "code",
      "metadata": {
        "id": "_yn5imbVvyNU"
      },
      "source": [
        "def get_redundant_pairs(df):\n",
        "    '''Get diagonal and lower triangular pairs of correlation matrix'''\n",
        "    pairs_to_drop = set()\n",
        "    cols = df.columns\n",
        "    for i in range(0, df.shape[1]):\n",
        "        for j in range(0, i+1):\n",
        "            pairs_to_drop.add((cols[i], cols[j]))\n",
        "    return pairs_to_drop\n",
        "\n",
        "# Function to get top correlations \n",
        "\n",
        "def get_top_abs_correlations(df, n=5):\n",
        "    au_corr = df.corr().abs().unstack()\n",
        "    labels_to_drop = get_redundant_pairs(df)\n",
        "    au_corr = au_corr.drop(labels=labels_to_drop).sort_values(ascending=False)\n",
        "    return au_corr[0:n]\n",
        "\n",
        "print(\"Top Absolute Correlations\")\n",
        "print(get_top_abs_correlations(train_corr, 40))"
      ],
      "execution_count": null,
      "outputs": []
    },
    {
      "cell_type": "code",
      "metadata": {
        "id": "UY5-7DnDwHFs"
      },
      "source": [
        "# Correlation of all about dataset\n",
        "slr.iloc[:,1:].corr()"
      ],
      "execution_count": null,
      "outputs": []
    },
    {
      "cell_type": "markdown",
      "metadata": {
        "id": "m5_xQDh4UZUa"
      },
      "source": [
        "# **Observations based on correlation plot**\n",
        "\n",
        "1.Temperature - All the temperature variables from T1-T9 and T_out have positive correlation with the target Appliances . For the indoortemperatures, the correlations are high as expected, since the ventilation is driven by the HRV unit and minimizes air tempera-ture differences between rooms. Four columns have a high degree of correlation with T9 - T3,T5,T7,T8 also T6 & T_Out has high correlation (both temperatures from outside) . Hence T6 & T9 can be removed from training set as information provided by them can be provided by other fields.\n",
        "\n",
        "2.Weather attributes - Visibility, Tdewpoint, Press_mm_hg have low correlation values\n",
        "\n",
        "3.Humidity - There are no significantly high correlation cases (> 0.9) for humidity sensors.\n",
        "\n",
        "4.Random variables have no role to play"
      ]
    },
    {
      "cell_type": "markdown",
      "metadata": {
        "id": "auLRI-HQa3J-"
      },
      "source": [
        "\n",
        "# **Data Preprocessing**"
      ]
    },
    {
      "cell_type": "markdown",
      "metadata": {
        "id": "XDan1vpc7wFi"
      },
      "source": [
        "\n",
        "# **Splitting the data into training and testing dataset**"
      ]
    },
    {
      "cell_type": "code",
      "metadata": {
        "id": "D_HuwX8XpRHC"
      },
      "source": [
        "# Due to lot of zero enteries this column is of not much use and will be ignored in rest of the model\n",
        "_ = feature_vars.drop(['lights'], axis=1 , inplace= True) ;"
      ],
      "execution_count": 21,
      "outputs": []
    },
    {
      "cell_type": "code",
      "metadata": {
        "id": "2jFq13UCXOhw"
      },
      "source": [
        "#Split training dataset into independent and dependent varibales\n",
        "train_X = train[feature_vars.columns]\n",
        "train_y = train[target_vars.columns]"
      ],
      "execution_count": 22,
      "outputs": []
    },
    {
      "cell_type": "code",
      "metadata": {
        "id": "wGCYrYlViYjU"
      },
      "source": [
        "#Split testing dataset into independent and dependent varibales\n",
        "test_X = test[feature_vars.columns]\n",
        "test_y = test[target_vars.columns]"
      ],
      "execution_count": 32,
      "outputs": []
    },
    {
      "cell_type": "code",
      "metadata": {
        "colab": {
          "base_uri": "https://localhost:8080/",
          "height": 314
        },
        "id": "-Tq8lFFtqlob",
        "outputId": "2ac9865f-f90e-4ce7-9187-9e8d312cd7ea"
      },
      "source": [
        "train_X.describe()"
      ],
      "execution_count": 78,
      "outputs": [
        {
          "output_type": "execute_result",
          "data": {
            "text/html": [
              "<div>\n",
              "<style scoped>\n",
              "    .dataframe tbody tr th:only-of-type {\n",
              "        vertical-align: middle;\n",
              "    }\n",
              "\n",
              "    .dataframe tbody tr th {\n",
              "        vertical-align: top;\n",
              "    }\n",
              "\n",
              "    .dataframe thead th {\n",
              "        text-align: right;\n",
              "    }\n",
              "</style>\n",
              "<table border=\"1\" class=\"dataframe\">\n",
              "  <thead>\n",
              "    <tr style=\"text-align: right;\">\n",
              "      <th></th>\n",
              "      <th>T1</th>\n",
              "      <th>T2</th>\n",
              "      <th>T3</th>\n",
              "      <th>T4</th>\n",
              "      <th>T5</th>\n",
              "      <th>T7</th>\n",
              "      <th>T8</th>\n",
              "      <th>RH_1</th>\n",
              "      <th>RH_2</th>\n",
              "      <th>RH_3</th>\n",
              "      <th>RH_4</th>\n",
              "      <th>RH_5</th>\n",
              "      <th>RH_6</th>\n",
              "      <th>RH_7</th>\n",
              "      <th>RH_8</th>\n",
              "      <th>RH_9</th>\n",
              "      <th>T_out</th>\n",
              "      <th>Tdewpoint</th>\n",
              "      <th>RH_out</th>\n",
              "      <th>Press_mm_hg</th>\n",
              "      <th>Windspeed</th>\n",
              "    </tr>\n",
              "  </thead>\n",
              "  <tbody>\n",
              "    <tr>\n",
              "      <th>count</th>\n",
              "      <td>1.973500e+04</td>\n",
              "      <td>1.973500e+04</td>\n",
              "      <td>1.973500e+04</td>\n",
              "      <td>1.973500e+04</td>\n",
              "      <td>1.973500e+04</td>\n",
              "      <td>1.973500e+04</td>\n",
              "      <td>1.973500e+04</td>\n",
              "      <td>1.973500e+04</td>\n",
              "      <td>1.973500e+04</td>\n",
              "      <td>1.973500e+04</td>\n",
              "      <td>1.973500e+04</td>\n",
              "      <td>1.973500e+04</td>\n",
              "      <td>1.973500e+04</td>\n",
              "      <td>1.973500e+04</td>\n",
              "      <td>1.973500e+04</td>\n",
              "      <td>1.973500e+04</td>\n",
              "      <td>1.973500e+04</td>\n",
              "      <td>1.973500e+04</td>\n",
              "      <td>1.973500e+04</td>\n",
              "      <td>1.973500e+04</td>\n",
              "      <td>1.973500e+04</td>\n",
              "    </tr>\n",
              "    <tr>\n",
              "      <th>mean</th>\n",
              "      <td>-6.667886e-15</td>\n",
              "      <td>2.350691e-15</td>\n",
              "      <td>-1.699285e-15</td>\n",
              "      <td>-4.622016e-15</td>\n",
              "      <td>-4.073694e-15</td>\n",
              "      <td>4.315688e-15</td>\n",
              "      <td>2.791272e-14</td>\n",
              "      <td>-1.339018e-16</td>\n",
              "      <td>-1.033770e-16</td>\n",
              "      <td>9.847113e-15</td>\n",
              "      <td>2.662330e-15</td>\n",
              "      <td>-2.033618e-16</td>\n",
              "      <td>-1.074250e-14</td>\n",
              "      <td>9.832745e-16</td>\n",
              "      <td>1.462344e-15</td>\n",
              "      <td>-5.974446e-15</td>\n",
              "      <td>1.922849e-16</td>\n",
              "      <td>1.053820e-15</td>\n",
              "      <td>-5.558642e-15</td>\n",
              "      <td>1.361625e-14</td>\n",
              "      <td>-2.815437e-15</td>\n",
              "    </tr>\n",
              "    <tr>\n",
              "      <th>std</th>\n",
              "      <td>1.000025e+00</td>\n",
              "      <td>1.000025e+00</td>\n",
              "      <td>1.000025e+00</td>\n",
              "      <td>1.000025e+00</td>\n",
              "      <td>1.000025e+00</td>\n",
              "      <td>1.000025e+00</td>\n",
              "      <td>1.000025e+00</td>\n",
              "      <td>1.000025e+00</td>\n",
              "      <td>1.000025e+00</td>\n",
              "      <td>1.000025e+00</td>\n",
              "      <td>1.000025e+00</td>\n",
              "      <td>1.000025e+00</td>\n",
              "      <td>1.000025e+00</td>\n",
              "      <td>1.000025e+00</td>\n",
              "      <td>1.000025e+00</td>\n",
              "      <td>1.000025e+00</td>\n",
              "      <td>1.000025e+00</td>\n",
              "      <td>1.000025e+00</td>\n",
              "      <td>1.000025e+00</td>\n",
              "      <td>1.000025e+00</td>\n",
              "      <td>1.000025e+00</td>\n",
              "    </tr>\n",
              "    <tr>\n",
              "      <th>min</th>\n",
              "      <td>-3.048876e+00</td>\n",
              "      <td>-1.934053e+00</td>\n",
              "      <td>-2.526152e+00</td>\n",
              "      <td>-2.817330e+00</td>\n",
              "      <td>-2.310615e+00</td>\n",
              "      <td>-2.311491e+00</td>\n",
              "      <td>-2.925415e+00</td>\n",
              "      <td>-3.326400e+00</td>\n",
              "      <td>-4.903811e+00</td>\n",
              "      <td>-3.218882e+00</td>\n",
              "      <td>-2.618372e+00</td>\n",
              "      <td>-2.342578e+00</td>\n",
              "      <td>-1.721052e+00</td>\n",
              "      <td>-2.383264e+00</td>\n",
              "      <td>-2.552753e+00</td>\n",
              "      <td>-2.983513e+00</td>\n",
              "      <td>-2.334216e+00</td>\n",
              "      <td>-2.470045e+00</td>\n",
              "      <td>-3.741461e+00</td>\n",
              "      <td>-3.543953e+00</td>\n",
              "      <td>-1.648099e+00</td>\n",
              "    </tr>\n",
              "    <tr>\n",
              "      <th>25%</th>\n",
              "      <td>-5.769346e-01</td>\n",
              "      <td>-7.073769e-01</td>\n",
              "      <td>-7.365738e-01</td>\n",
              "      <td>-6.487730e-01</td>\n",
              "      <td>-7.126873e-01</td>\n",
              "      <td>-7.427257e-01</td>\n",
              "      <td>-6.334538e-01</td>\n",
              "      <td>-7.354261e-01</td>\n",
              "      <td>-6.193121e-01</td>\n",
              "      <td>-7.197740e-01</td>\n",
              "      <td>-8.055135e-01</td>\n",
              "      <td>-6.150967e-01</td>\n",
              "      <td>-7.892411e-01</td>\n",
              "      <td>-7.602934e-01</td>\n",
              "      <td>-7.406833e-01</td>\n",
              "      <td>-7.352716e-01</td>\n",
              "      <td>-7.043079e-01</td>\n",
              "      <td>-6.820070e-01</td>\n",
              "      <td>-6.319890e-01</td>\n",
              "      <td>-6.202340e-01</td>\n",
              "      <td>-8.321582e-01</td>\n",
              "    </tr>\n",
              "    <tr>\n",
              "      <th>50%</th>\n",
              "      <td>-5.390414e-02</td>\n",
              "      <td>-1.556007e-01</td>\n",
              "      <td>-8.355234e-02</td>\n",
              "      <td>-9.235610e-02</td>\n",
              "      <td>-1.095679e-01</td>\n",
              "      <td>-1.107961e-01</td>\n",
              "      <td>3.624193e-02</td>\n",
              "      <td>-1.515563e-01</td>\n",
              "      <td>1.955412e-02</td>\n",
              "      <td>-2.189281e-01</td>\n",
              "      <td>-1.444076e-01</td>\n",
              "      <td>-2.060876e-01</td>\n",
              "      <td>2.185997e-02</td>\n",
              "      <td>-1.026318e-01</td>\n",
              "      <td>-1.074159e-01</td>\n",
              "      <td>-1.571523e-01</td>\n",
              "      <td>-9.309242e-02</td>\n",
              "      <td>-7.804751e-02</td>\n",
              "      <td>2.628230e-01</td>\n",
              "      <td>7.803464e-02</td>\n",
              "      <td>-1.522076e-01</td>\n",
              "    </tr>\n",
              "    <tr>\n",
              "      <th>75%</th>\n",
              "      <td>5.687512e-01</td>\n",
              "      <td>5.284195e-01</td>\n",
              "      <td>5.096503e-01</td>\n",
              "      <td>6.092840e-01</td>\n",
              "      <td>5.570582e-01</td>\n",
              "      <td>6.317211e-01</td>\n",
              "      <td>6.957133e-01</td>\n",
              "      <td>7.054003e-01</td>\n",
              "      <td>6.977352e-01</td>\n",
              "      <td>7.735457e-01</td>\n",
              "      <td>7.209424e-01</td>\n",
              "      <td>3.008323e-01</td>\n",
              "      <td>9.187315e-01</td>\n",
              "      <td>7.062465e-01</td>\n",
              "      <td>6.890653e-01</td>\n",
              "      <td>6.710266e-01</td>\n",
              "      <td>5.635724e-01</td>\n",
              "      <td>6.689551e-01</td>\n",
              "      <td>7.997101e-01</td>\n",
              "      <td>7.312537e-01</td>\n",
              "      <td>5.957380e-01</td>\n",
              "    </tr>\n",
              "    <tr>\n",
              "      <th>max</th>\n",
              "      <td>2.847670e+00</td>\n",
              "      <td>4.339172e+00</td>\n",
              "      <td>3.473670e+00</td>\n",
              "      <td>2.616301e+00</td>\n",
              "      <td>3.362774e+00</td>\n",
              "      <td>2.717089e+00</td>\n",
              "      <td>2.658791e+00</td>\n",
              "      <td>5.805255e+00</td>\n",
              "      <td>3.834732e+00</td>\n",
              "      <td>3.355616e+00</td>\n",
              "      <td>2.778740e+00</td>\n",
              "      <td>5.029191e+00</td>\n",
              "      <td>1.454008e+00</td>\n",
              "      <td>3.130926e+00</td>\n",
              "      <td>3.032761e+00</td>\n",
              "      <td>2.836221e+00</td>\n",
              "      <td>3.514646e+00</td>\n",
              "      <td>2.798707e+00</td>\n",
              "      <td>1.358968e+00</td>\n",
              "      <td>2.267445e+00</td>\n",
              "      <td>4.063486e+00</td>\n",
              "    </tr>\n",
              "  </tbody>\n",
              "</table>\n",
              "</div>"
            ],
            "text/plain": [
              "                 T1            T2  ...   Press_mm_hg     Windspeed\n",
              "count  1.973500e+04  1.973500e+04  ...  1.973500e+04  1.973500e+04\n",
              "mean  -6.667886e-15  2.350691e-15  ...  1.361625e-14 -2.815437e-15\n",
              "std    1.000025e+00  1.000025e+00  ...  1.000025e+00  1.000025e+00\n",
              "min   -3.048876e+00 -1.934053e+00  ... -3.543953e+00 -1.648099e+00\n",
              "25%   -5.769346e-01 -7.073769e-01  ... -6.202340e-01 -8.321582e-01\n",
              "50%   -5.390414e-02 -1.556007e-01  ...  7.803464e-02 -1.522076e-01\n",
              "75%    5.687512e-01  5.284195e-01  ...  7.312537e-01  5.957380e-01\n",
              "max    2.847670e+00  4.339172e+00  ...  2.267445e+00  4.063486e+00\n",
              "\n",
              "[8 rows x 21 columns]"
            ]
          },
          "metadata": {},
          "execution_count": 78
        }
      ]
    },
    {
      "cell_type": "code",
      "metadata": {
        "id": "LGI7dydAXcsy",
        "colab": {
          "base_uri": "https://localhost:8080/",
          "height": 185
        },
        "outputId": "f9787ecf-c33e-46a1-da85-f4ee66e31e1e"
      },
      "source": [
        "# Due to conlusion made above below columns are removed\n",
        "train_X.drop([\"rv1\",\"rv2\",\"Visibility\",\"T6\",\"T9\"],axis=1 , inplace=True)"
      ],
      "execution_count": 1,
      "outputs": [
        {
          "output_type": "error",
          "ename": "NameError",
          "evalue": "ignored",
          "traceback": [
            "\u001b[0;31m---------------------------------------------------------------------------\u001b[0m",
            "\u001b[0;31mNameError\u001b[0m                                 Traceback (most recent call last)",
            "\u001b[0;32m<ipython-input-1-7895ab2ff0f1>\u001b[0m in \u001b[0;36m<module>\u001b[0;34m()\u001b[0m\n\u001b[1;32m      1\u001b[0m \u001b[0;31m# Due to conlusion made above below columns are removed\u001b[0m\u001b[0;34m\u001b[0m\u001b[0;34m\u001b[0m\u001b[0;34m\u001b[0m\u001b[0m\n\u001b[0;32m----> 2\u001b[0;31m \u001b[0mtrain_X\u001b[0m\u001b[0;34m.\u001b[0m\u001b[0mdrop\u001b[0m\u001b[0;34m(\u001b[0m\u001b[0;34m[\u001b[0m\u001b[0;34m\"rv1\"\u001b[0m\u001b[0;34m,\u001b[0m\u001b[0;34m\"rv2\"\u001b[0m\u001b[0;34m,\u001b[0m\u001b[0;34m\"Visibility\"\u001b[0m\u001b[0;34m,\u001b[0m\u001b[0;34m\"T6\"\u001b[0m\u001b[0;34m,\u001b[0m\u001b[0;34m\"T9\"\u001b[0m\u001b[0;34m]\u001b[0m\u001b[0;34m,\u001b[0m\u001b[0maxis\u001b[0m\u001b[0;34m=\u001b[0m\u001b[0;36m1\u001b[0m \u001b[0;34m,\u001b[0m \u001b[0minplace\u001b[0m\u001b[0;34m=\u001b[0m\u001b[0;32mTrue\u001b[0m\u001b[0;34m)\u001b[0m\u001b[0;34m\u001b[0m\u001b[0;34m\u001b[0m\u001b[0m\n\u001b[0m",
            "\u001b[0;31mNameError\u001b[0m: name 'train_X' is not defined"
          ]
        }
      ]
    },
    {
      "cell_type": "code",
      "metadata": {
        "id": "Lj3Ec9TaXkI2"
      },
      "source": [
        "# Due to conlusion made above below columns are removed\n",
        "test_X.drop([\"rv1\",\"rv2\",\"Visibility\",\"T6\",\"T9\"], axis=1, inplace=True)"
      ],
      "execution_count": 34,
      "outputs": []
    },
    {
      "cell_type": "code",
      "metadata": {
        "colab": {
          "base_uri": "https://localhost:8080/"
        },
        "id": "txKkbeCpgRcm",
        "outputId": "cbb262cf-74ef-4d40-b0e1-30b3715d41b4"
      },
      "source": [
        "train_X.columns"
      ],
      "execution_count": 25,
      "outputs": [
        {
          "output_type": "execute_result",
          "data": {
            "text/plain": [
              "Index(['T1', 'T2', 'T3', 'T4', 'T5', 'T7', 'T8', 'RH_1', 'RH_2', 'RH_3',\n",
              "       'RH_4', 'RH_5', 'RH_6', 'RH_7', 'RH_8', 'RH_9', 'T_out', 'Tdewpoint',\n",
              "       'RH_out', 'Press_mm_hg', 'Windspeed'],\n",
              "      dtype='object')"
            ]
          },
          "metadata": {},
          "execution_count": 25
        }
      ]
    },
    {
      "cell_type": "code",
      "metadata": {
        "colab": {
          "base_uri": "https://localhost:8080/"
        },
        "id": "8ymL9jPugVHg",
        "outputId": "fb9a1d02-9a87-418e-bb17-2179227880b9"
      },
      "source": [
        "test_X.columns"
      ],
      "execution_count": 35,
      "outputs": [
        {
          "output_type": "execute_result",
          "data": {
            "text/plain": [
              "Index(['T1', 'T2', 'T3', 'T4', 'T5', 'T7', 'T8', 'RH_1', 'RH_2', 'RH_3',\n",
              "       'RH_4', 'RH_5', 'RH_6', 'RH_7', 'RH_8', 'RH_9', 'T_out', 'Tdewpoint',\n",
              "       'RH_out', 'Press_mm_hg', 'Windspeed'],\n",
              "      dtype='object')"
            ]
          },
          "metadata": {},
          "execution_count": 35
        }
      ]
    },
    {
      "cell_type": "code",
      "metadata": {
        "id": "jVqcuVaiXwOe"
      },
      "source": [
        "from sklearn.preprocessing import StandardScaler\n",
        "sc=StandardScaler()\n",
        "\n",
        "# Create test and training set by including Appliances column\n",
        "\n",
        "train = slr[list(train_X.columns.values) + col_target ]\n",
        "\n",
        "test = slr[list(test_X.columns.values) + col_target ]\n",
        "\n",
        "# Create dummy test and training set to hold scaled values\n",
        "\n",
        "sc_train = pd.DataFrame(columns=train.columns , index=train.index)\n",
        "\n",
        "sc_train[sc_train.columns] = sc.fit_transform(train)\n",
        "\n",
        "sc_test= pd.DataFrame(columns=test.columns , index=test.index)\n",
        "\n",
        "sc_test[sc_test.columns] = sc.fit_transform(test)"
      ],
      "execution_count": 39,
      "outputs": []
    },
    {
      "cell_type": "code",
      "metadata": {
        "colab": {
          "base_uri": "https://localhost:8080/",
          "height": 222
        },
        "id": "W_FY8W8klvrT",
        "outputId": "18abc89d-5feb-43ba-9ef1-bffe448bb8ab"
      },
      "source": [
        "sc_train.head()"
      ],
      "execution_count": 40,
      "outputs": [
        {
          "output_type": "execute_result",
          "data": {
            "text/html": [
              "<div>\n",
              "<style scoped>\n",
              "    .dataframe tbody tr th:only-of-type {\n",
              "        vertical-align: middle;\n",
              "    }\n",
              "\n",
              "    .dataframe tbody tr th {\n",
              "        vertical-align: top;\n",
              "    }\n",
              "\n",
              "    .dataframe thead th {\n",
              "        text-align: right;\n",
              "    }\n",
              "</style>\n",
              "<table border=\"1\" class=\"dataframe\">\n",
              "  <thead>\n",
              "    <tr style=\"text-align: right;\">\n",
              "      <th></th>\n",
              "      <th>T1</th>\n",
              "      <th>T2</th>\n",
              "      <th>T3</th>\n",
              "      <th>T4</th>\n",
              "      <th>T5</th>\n",
              "      <th>T7</th>\n",
              "      <th>T8</th>\n",
              "      <th>RH_1</th>\n",
              "      <th>RH_2</th>\n",
              "      <th>RH_3</th>\n",
              "      <th>RH_4</th>\n",
              "      <th>RH_5</th>\n",
              "      <th>RH_6</th>\n",
              "      <th>RH_7</th>\n",
              "      <th>RH_8</th>\n",
              "      <th>RH_9</th>\n",
              "      <th>T_out</th>\n",
              "      <th>Tdewpoint</th>\n",
              "      <th>RH_out</th>\n",
              "      <th>Press_mm_hg</th>\n",
              "      <th>Windspeed</th>\n",
              "      <th>Appliances</th>\n",
              "    </tr>\n",
              "  </thead>\n",
              "  <tbody>\n",
              "    <tr>\n",
              "      <th>0</th>\n",
              "      <td>-1.118645</td>\n",
              "      <td>-0.520411</td>\n",
              "      <td>-1.235063</td>\n",
              "      <td>-0.908217</td>\n",
              "      <td>-1.314903</td>\n",
              "      <td>-1.453646</td>\n",
              "      <td>-1.957509</td>\n",
              "      <td>1.843821</td>\n",
              "      <td>1.073683</td>\n",
              "      <td>1.686130</td>\n",
              "      <td>1.506438</td>\n",
              "      <td>0.471160</td>\n",
              "      <td>0.951798</td>\n",
              "      <td>1.219861</td>\n",
              "      <td>1.141572</td>\n",
              "      <td>0.958136</td>\n",
              "      <td>-0.152647</td>\n",
              "      <td>0.366975</td>\n",
              "      <td>0.82208</td>\n",
              "      <td>-2.976328</td>\n",
              "      <td>1.207694</td>\n",
              "      <td>-0.367676</td>\n",
              "    </tr>\n",
              "    <tr>\n",
              "      <th>1</th>\n",
              "      <td>-1.118645</td>\n",
              "      <td>-0.520411</td>\n",
              "      <td>-1.235063</td>\n",
              "      <td>-0.908217</td>\n",
              "      <td>-1.314903</td>\n",
              "      <td>-1.453646</td>\n",
              "      <td>-1.957509</td>\n",
              "      <td>1.616807</td>\n",
              "      <td>1.057097</td>\n",
              "      <td>1.704566</td>\n",
              "      <td>1.604528</td>\n",
              "      <td>0.471160</td>\n",
              "      <td>0.945592</td>\n",
              "      <td>1.206825</td>\n",
              "      <td>1.134554</td>\n",
              "      <td>0.965363</td>\n",
              "      <td>-0.174588</td>\n",
              "      <td>0.343135</td>\n",
              "      <td>0.82208</td>\n",
              "      <td>-2.962813</td>\n",
              "      <td>1.071703</td>\n",
              "      <td>-0.367676</td>\n",
              "    </tr>\n",
              "    <tr>\n",
              "      <th>2</th>\n",
              "      <td>-1.118645</td>\n",
              "      <td>-0.520411</td>\n",
              "      <td>-1.235063</td>\n",
              "      <td>-0.944115</td>\n",
              "      <td>-1.314903</td>\n",
              "      <td>-1.453646</td>\n",
              "      <td>-1.957509</td>\n",
              "      <td>1.517959</td>\n",
              "      <td>1.033550</td>\n",
              "      <td>1.748608</td>\n",
              "      <td>1.580918</td>\n",
              "      <td>0.458968</td>\n",
              "      <td>0.916484</td>\n",
              "      <td>1.182057</td>\n",
              "      <td>1.109032</td>\n",
              "      <td>0.950910</td>\n",
              "      <td>-0.196529</td>\n",
              "      <td>0.319294</td>\n",
              "      <td>0.82208</td>\n",
              "      <td>-2.949298</td>\n",
              "      <td>0.935713</td>\n",
              "      <td>-0.465215</td>\n",
              "    </tr>\n",
              "    <tr>\n",
              "      <th>3</th>\n",
              "      <td>-1.118645</td>\n",
              "      <td>-0.520411</td>\n",
              "      <td>-1.235063</td>\n",
              "      <td>-0.962063</td>\n",
              "      <td>-1.314903</td>\n",
              "      <td>-1.485243</td>\n",
              "      <td>-2.008631</td>\n",
              "      <td>1.459321</td>\n",
              "      <td>1.024540</td>\n",
              "      <td>1.769092</td>\n",
              "      <td>1.542526</td>\n",
              "      <td>0.458968</td>\n",
              "      <td>0.925045</td>\n",
              "      <td>1.154030</td>\n",
              "      <td>1.082233</td>\n",
              "      <td>0.926821</td>\n",
              "      <td>-0.218470</td>\n",
              "      <td>0.295454</td>\n",
              "      <td>0.82208</td>\n",
              "      <td>-2.935783</td>\n",
              "      <td>0.799723</td>\n",
              "      <td>-0.465215</td>\n",
              "    </tr>\n",
              "    <tr>\n",
              "      <th>4</th>\n",
              "      <td>-1.118645</td>\n",
              "      <td>-0.520411</td>\n",
              "      <td>-1.235063</td>\n",
              "      <td>-0.962063</td>\n",
              "      <td>-1.296832</td>\n",
              "      <td>-1.453646</td>\n",
              "      <td>-2.008631</td>\n",
              "      <td>1.526336</td>\n",
              "      <td>1.009797</td>\n",
              "      <td>1.769092</td>\n",
              "      <td>1.497991</td>\n",
              "      <td>0.458968</td>\n",
              "      <td>0.972238</td>\n",
              "      <td>1.142298</td>\n",
              "      <td>1.082233</td>\n",
              "      <td>0.926821</td>\n",
              "      <td>-0.240411</td>\n",
              "      <td>0.271613</td>\n",
              "      <td>0.82208</td>\n",
              "      <td>-2.922268</td>\n",
              "      <td>0.663733</td>\n",
              "      <td>-0.367676</td>\n",
              "    </tr>\n",
              "  </tbody>\n",
              "</table>\n",
              "</div>"
            ],
            "text/plain": [
              "         T1        T2        T3  ...  Press_mm_hg  Windspeed  Appliances\n",
              "0 -1.118645 -0.520411 -1.235063  ...    -2.976328   1.207694   -0.367676\n",
              "1 -1.118645 -0.520411 -1.235063  ...    -2.962813   1.071703   -0.367676\n",
              "2 -1.118645 -0.520411 -1.235063  ...    -2.949298   0.935713   -0.465215\n",
              "3 -1.118645 -0.520411 -1.235063  ...    -2.935783   0.799723   -0.465215\n",
              "4 -1.118645 -0.520411 -1.235063  ...    -2.922268   0.663733   -0.367676\n",
              "\n",
              "[5 rows x 22 columns]"
            ]
          },
          "metadata": {},
          "execution_count": 40
        }
      ]
    },
    {
      "cell_type": "code",
      "metadata": {
        "colab": {
          "base_uri": "https://localhost:8080/",
          "height": 222
        },
        "id": "Ox6LprFQl7qw",
        "outputId": "f4d9f34d-a07a-4f8a-c6c0-aab813f12f11"
      },
      "source": [
        "sc_test.head()"
      ],
      "execution_count": 41,
      "outputs": [
        {
          "output_type": "execute_result",
          "data": {
            "text/html": [
              "<div>\n",
              "<style scoped>\n",
              "    .dataframe tbody tr th:only-of-type {\n",
              "        vertical-align: middle;\n",
              "    }\n",
              "\n",
              "    .dataframe tbody tr th {\n",
              "        vertical-align: top;\n",
              "    }\n",
              "\n",
              "    .dataframe thead th {\n",
              "        text-align: right;\n",
              "    }\n",
              "</style>\n",
              "<table border=\"1\" class=\"dataframe\">\n",
              "  <thead>\n",
              "    <tr style=\"text-align: right;\">\n",
              "      <th></th>\n",
              "      <th>T1</th>\n",
              "      <th>T2</th>\n",
              "      <th>T3</th>\n",
              "      <th>T4</th>\n",
              "      <th>T5</th>\n",
              "      <th>T7</th>\n",
              "      <th>T8</th>\n",
              "      <th>RH_1</th>\n",
              "      <th>RH_2</th>\n",
              "      <th>RH_3</th>\n",
              "      <th>RH_4</th>\n",
              "      <th>RH_5</th>\n",
              "      <th>RH_6</th>\n",
              "      <th>RH_7</th>\n",
              "      <th>RH_8</th>\n",
              "      <th>RH_9</th>\n",
              "      <th>T_out</th>\n",
              "      <th>Tdewpoint</th>\n",
              "      <th>RH_out</th>\n",
              "      <th>Press_mm_hg</th>\n",
              "      <th>Windspeed</th>\n",
              "      <th>Appliances</th>\n",
              "    </tr>\n",
              "  </thead>\n",
              "  <tbody>\n",
              "    <tr>\n",
              "      <th>0</th>\n",
              "      <td>-1.118645</td>\n",
              "      <td>-0.520411</td>\n",
              "      <td>-1.235063</td>\n",
              "      <td>-0.908217</td>\n",
              "      <td>-1.314903</td>\n",
              "      <td>-1.453646</td>\n",
              "      <td>-1.957509</td>\n",
              "      <td>1.843821</td>\n",
              "      <td>1.073683</td>\n",
              "      <td>1.686130</td>\n",
              "      <td>1.506438</td>\n",
              "      <td>0.471160</td>\n",
              "      <td>0.951798</td>\n",
              "      <td>1.219861</td>\n",
              "      <td>1.141572</td>\n",
              "      <td>0.958136</td>\n",
              "      <td>-0.152647</td>\n",
              "      <td>0.366975</td>\n",
              "      <td>0.82208</td>\n",
              "      <td>-2.976328</td>\n",
              "      <td>1.207694</td>\n",
              "      <td>-0.367676</td>\n",
              "    </tr>\n",
              "    <tr>\n",
              "      <th>1</th>\n",
              "      <td>-1.118645</td>\n",
              "      <td>-0.520411</td>\n",
              "      <td>-1.235063</td>\n",
              "      <td>-0.908217</td>\n",
              "      <td>-1.314903</td>\n",
              "      <td>-1.453646</td>\n",
              "      <td>-1.957509</td>\n",
              "      <td>1.616807</td>\n",
              "      <td>1.057097</td>\n",
              "      <td>1.704566</td>\n",
              "      <td>1.604528</td>\n",
              "      <td>0.471160</td>\n",
              "      <td>0.945592</td>\n",
              "      <td>1.206825</td>\n",
              "      <td>1.134554</td>\n",
              "      <td>0.965363</td>\n",
              "      <td>-0.174588</td>\n",
              "      <td>0.343135</td>\n",
              "      <td>0.82208</td>\n",
              "      <td>-2.962813</td>\n",
              "      <td>1.071703</td>\n",
              "      <td>-0.367676</td>\n",
              "    </tr>\n",
              "    <tr>\n",
              "      <th>2</th>\n",
              "      <td>-1.118645</td>\n",
              "      <td>-0.520411</td>\n",
              "      <td>-1.235063</td>\n",
              "      <td>-0.944115</td>\n",
              "      <td>-1.314903</td>\n",
              "      <td>-1.453646</td>\n",
              "      <td>-1.957509</td>\n",
              "      <td>1.517959</td>\n",
              "      <td>1.033550</td>\n",
              "      <td>1.748608</td>\n",
              "      <td>1.580918</td>\n",
              "      <td>0.458968</td>\n",
              "      <td>0.916484</td>\n",
              "      <td>1.182057</td>\n",
              "      <td>1.109032</td>\n",
              "      <td>0.950910</td>\n",
              "      <td>-0.196529</td>\n",
              "      <td>0.319294</td>\n",
              "      <td>0.82208</td>\n",
              "      <td>-2.949298</td>\n",
              "      <td>0.935713</td>\n",
              "      <td>-0.465215</td>\n",
              "    </tr>\n",
              "    <tr>\n",
              "      <th>3</th>\n",
              "      <td>-1.118645</td>\n",
              "      <td>-0.520411</td>\n",
              "      <td>-1.235063</td>\n",
              "      <td>-0.962063</td>\n",
              "      <td>-1.314903</td>\n",
              "      <td>-1.485243</td>\n",
              "      <td>-2.008631</td>\n",
              "      <td>1.459321</td>\n",
              "      <td>1.024540</td>\n",
              "      <td>1.769092</td>\n",
              "      <td>1.542526</td>\n",
              "      <td>0.458968</td>\n",
              "      <td>0.925045</td>\n",
              "      <td>1.154030</td>\n",
              "      <td>1.082233</td>\n",
              "      <td>0.926821</td>\n",
              "      <td>-0.218470</td>\n",
              "      <td>0.295454</td>\n",
              "      <td>0.82208</td>\n",
              "      <td>-2.935783</td>\n",
              "      <td>0.799723</td>\n",
              "      <td>-0.465215</td>\n",
              "    </tr>\n",
              "    <tr>\n",
              "      <th>4</th>\n",
              "      <td>-1.118645</td>\n",
              "      <td>-0.520411</td>\n",
              "      <td>-1.235063</td>\n",
              "      <td>-0.962063</td>\n",
              "      <td>-1.296832</td>\n",
              "      <td>-1.453646</td>\n",
              "      <td>-2.008631</td>\n",
              "      <td>1.526336</td>\n",
              "      <td>1.009797</td>\n",
              "      <td>1.769092</td>\n",
              "      <td>1.497991</td>\n",
              "      <td>0.458968</td>\n",
              "      <td>0.972238</td>\n",
              "      <td>1.142298</td>\n",
              "      <td>1.082233</td>\n",
              "      <td>0.926821</td>\n",
              "      <td>-0.240411</td>\n",
              "      <td>0.271613</td>\n",
              "      <td>0.82208</td>\n",
              "      <td>-2.922268</td>\n",
              "      <td>0.663733</td>\n",
              "      <td>-0.367676</td>\n",
              "    </tr>\n",
              "  </tbody>\n",
              "</table>\n",
              "</div>"
            ],
            "text/plain": [
              "         T1        T2        T3  ...  Press_mm_hg  Windspeed  Appliances\n",
              "0 -1.118645 -0.520411 -1.235063  ...    -2.976328   1.207694   -0.367676\n",
              "1 -1.118645 -0.520411 -1.235063  ...    -2.962813   1.071703   -0.367676\n",
              "2 -1.118645 -0.520411 -1.235063  ...    -2.949298   0.935713   -0.465215\n",
              "3 -1.118645 -0.520411 -1.235063  ...    -2.935783   0.799723   -0.465215\n",
              "4 -1.118645 -0.520411 -1.235063  ...    -2.922268   0.663733   -0.367676\n",
              "\n",
              "[5 rows x 22 columns]"
            ]
          },
          "metadata": {},
          "execution_count": 41
        }
      ]
    },
    {
      "cell_type": "code",
      "metadata": {
        "id": "1Qm-A1llZB0u"
      },
      "source": [
        "# Remove Appliances column from traininig set\n",
        "\n",
        "train_X =  sc_train.drop(['Appliances'] , axis=1)\n",
        "train_y = sc_train['Appliances']\n",
        "\n",
        "test_X =  sc_test.drop(['Appliances'] , axis=1)\n",
        "test_y = sc_test['Appliances']"
      ],
      "execution_count": 42,
      "outputs": []
    },
    {
      "cell_type": "code",
      "metadata": {
        "colab": {
          "base_uri": "https://localhost:8080/",
          "height": 222
        },
        "id": "lsTc_fmmmD3S",
        "outputId": "4f3a6708-54c2-4c5e-c528-226a3cecef26"
      },
      "source": [
        "train_X.head()"
      ],
      "execution_count": 43,
      "outputs": [
        {
          "output_type": "execute_result",
          "data": {
            "text/html": [
              "<div>\n",
              "<style scoped>\n",
              "    .dataframe tbody tr th:only-of-type {\n",
              "        vertical-align: middle;\n",
              "    }\n",
              "\n",
              "    .dataframe tbody tr th {\n",
              "        vertical-align: top;\n",
              "    }\n",
              "\n",
              "    .dataframe thead th {\n",
              "        text-align: right;\n",
              "    }\n",
              "</style>\n",
              "<table border=\"1\" class=\"dataframe\">\n",
              "  <thead>\n",
              "    <tr style=\"text-align: right;\">\n",
              "      <th></th>\n",
              "      <th>T1</th>\n",
              "      <th>T2</th>\n",
              "      <th>T3</th>\n",
              "      <th>T4</th>\n",
              "      <th>T5</th>\n",
              "      <th>T7</th>\n",
              "      <th>T8</th>\n",
              "      <th>RH_1</th>\n",
              "      <th>RH_2</th>\n",
              "      <th>RH_3</th>\n",
              "      <th>RH_4</th>\n",
              "      <th>RH_5</th>\n",
              "      <th>RH_6</th>\n",
              "      <th>RH_7</th>\n",
              "      <th>RH_8</th>\n",
              "      <th>RH_9</th>\n",
              "      <th>T_out</th>\n",
              "      <th>Tdewpoint</th>\n",
              "      <th>RH_out</th>\n",
              "      <th>Press_mm_hg</th>\n",
              "      <th>Windspeed</th>\n",
              "    </tr>\n",
              "  </thead>\n",
              "  <tbody>\n",
              "    <tr>\n",
              "      <th>0</th>\n",
              "      <td>-1.118645</td>\n",
              "      <td>-0.520411</td>\n",
              "      <td>-1.235063</td>\n",
              "      <td>-0.908217</td>\n",
              "      <td>-1.314903</td>\n",
              "      <td>-1.453646</td>\n",
              "      <td>-1.957509</td>\n",
              "      <td>1.843821</td>\n",
              "      <td>1.073683</td>\n",
              "      <td>1.686130</td>\n",
              "      <td>1.506438</td>\n",
              "      <td>0.471160</td>\n",
              "      <td>0.951798</td>\n",
              "      <td>1.219861</td>\n",
              "      <td>1.141572</td>\n",
              "      <td>0.958136</td>\n",
              "      <td>-0.152647</td>\n",
              "      <td>0.366975</td>\n",
              "      <td>0.82208</td>\n",
              "      <td>-2.976328</td>\n",
              "      <td>1.207694</td>\n",
              "    </tr>\n",
              "    <tr>\n",
              "      <th>1</th>\n",
              "      <td>-1.118645</td>\n",
              "      <td>-0.520411</td>\n",
              "      <td>-1.235063</td>\n",
              "      <td>-0.908217</td>\n",
              "      <td>-1.314903</td>\n",
              "      <td>-1.453646</td>\n",
              "      <td>-1.957509</td>\n",
              "      <td>1.616807</td>\n",
              "      <td>1.057097</td>\n",
              "      <td>1.704566</td>\n",
              "      <td>1.604528</td>\n",
              "      <td>0.471160</td>\n",
              "      <td>0.945592</td>\n",
              "      <td>1.206825</td>\n",
              "      <td>1.134554</td>\n",
              "      <td>0.965363</td>\n",
              "      <td>-0.174588</td>\n",
              "      <td>0.343135</td>\n",
              "      <td>0.82208</td>\n",
              "      <td>-2.962813</td>\n",
              "      <td>1.071703</td>\n",
              "    </tr>\n",
              "    <tr>\n",
              "      <th>2</th>\n",
              "      <td>-1.118645</td>\n",
              "      <td>-0.520411</td>\n",
              "      <td>-1.235063</td>\n",
              "      <td>-0.944115</td>\n",
              "      <td>-1.314903</td>\n",
              "      <td>-1.453646</td>\n",
              "      <td>-1.957509</td>\n",
              "      <td>1.517959</td>\n",
              "      <td>1.033550</td>\n",
              "      <td>1.748608</td>\n",
              "      <td>1.580918</td>\n",
              "      <td>0.458968</td>\n",
              "      <td>0.916484</td>\n",
              "      <td>1.182057</td>\n",
              "      <td>1.109032</td>\n",
              "      <td>0.950910</td>\n",
              "      <td>-0.196529</td>\n",
              "      <td>0.319294</td>\n",
              "      <td>0.82208</td>\n",
              "      <td>-2.949298</td>\n",
              "      <td>0.935713</td>\n",
              "    </tr>\n",
              "    <tr>\n",
              "      <th>3</th>\n",
              "      <td>-1.118645</td>\n",
              "      <td>-0.520411</td>\n",
              "      <td>-1.235063</td>\n",
              "      <td>-0.962063</td>\n",
              "      <td>-1.314903</td>\n",
              "      <td>-1.485243</td>\n",
              "      <td>-2.008631</td>\n",
              "      <td>1.459321</td>\n",
              "      <td>1.024540</td>\n",
              "      <td>1.769092</td>\n",
              "      <td>1.542526</td>\n",
              "      <td>0.458968</td>\n",
              "      <td>0.925045</td>\n",
              "      <td>1.154030</td>\n",
              "      <td>1.082233</td>\n",
              "      <td>0.926821</td>\n",
              "      <td>-0.218470</td>\n",
              "      <td>0.295454</td>\n",
              "      <td>0.82208</td>\n",
              "      <td>-2.935783</td>\n",
              "      <td>0.799723</td>\n",
              "    </tr>\n",
              "    <tr>\n",
              "      <th>4</th>\n",
              "      <td>-1.118645</td>\n",
              "      <td>-0.520411</td>\n",
              "      <td>-1.235063</td>\n",
              "      <td>-0.962063</td>\n",
              "      <td>-1.296832</td>\n",
              "      <td>-1.453646</td>\n",
              "      <td>-2.008631</td>\n",
              "      <td>1.526336</td>\n",
              "      <td>1.009797</td>\n",
              "      <td>1.769092</td>\n",
              "      <td>1.497991</td>\n",
              "      <td>0.458968</td>\n",
              "      <td>0.972238</td>\n",
              "      <td>1.142298</td>\n",
              "      <td>1.082233</td>\n",
              "      <td>0.926821</td>\n",
              "      <td>-0.240411</td>\n",
              "      <td>0.271613</td>\n",
              "      <td>0.82208</td>\n",
              "      <td>-2.922268</td>\n",
              "      <td>0.663733</td>\n",
              "    </tr>\n",
              "  </tbody>\n",
              "</table>\n",
              "</div>"
            ],
            "text/plain": [
              "         T1        T2        T3  ...   RH_out  Press_mm_hg  Windspeed\n",
              "0 -1.118645 -0.520411 -1.235063  ...  0.82208    -2.976328   1.207694\n",
              "1 -1.118645 -0.520411 -1.235063  ...  0.82208    -2.962813   1.071703\n",
              "2 -1.118645 -0.520411 -1.235063  ...  0.82208    -2.949298   0.935713\n",
              "3 -1.118645 -0.520411 -1.235063  ...  0.82208    -2.935783   0.799723\n",
              "4 -1.118645 -0.520411 -1.235063  ...  0.82208    -2.922268   0.663733\n",
              "\n",
              "[5 rows x 21 columns]"
            ]
          },
          "metadata": {},
          "execution_count": 43
        }
      ]
    },
    {
      "cell_type": "code",
      "metadata": {
        "colab": {
          "base_uri": "https://localhost:8080/"
        },
        "id": "8-r_AvPDmJWv",
        "outputId": "a2ed38a3-bbd6-4ace-bb5c-d26876eae5c3"
      },
      "source": [
        "train_y.head()"
      ],
      "execution_count": 44,
      "outputs": [
        {
          "output_type": "execute_result",
          "data": {
            "text/plain": [
              "0   -0.367676\n",
              "1   -0.367676\n",
              "2   -0.465215\n",
              "3   -0.465215\n",
              "4   -0.367676\n",
              "Name: Appliances, dtype: float64"
            ]
          },
          "metadata": {},
          "execution_count": 44
        }
      ]
    },
    {
      "cell_type": "markdown",
      "metadata": {
        "id": "MgjZgQWiqIgc"
      },
      "source": [
        "# We will be looking at following Algorithms\n",
        "\n",
        "# Improved Linear regression models\n",
        "\n",
        "# 1.Ridge regression\n",
        "\n",
        "# 2.Lasso regression"
      ]
    },
    {
      "cell_type": "code",
      "metadata": {
        "id": "TjHuOlQXqmuN"
      },
      "source": [
        "from sklearn.linear_model import Ridge, Lasso\n",
        "import sklearn.metrics as metrics"
      ],
      "execution_count": 45,
      "outputs": []
    },
    {
      "cell_type": "code",
      "metadata": {
        "id": "2Mklmw5HY7vi"
      },
      "source": [
        "models = [\n",
        "           ['Lasso: ', Lasso()],\n",
        "           ['Ridge: ', Ridge()]\n",
        "]"
      ],
      "execution_count": 46,
      "outputs": []
    },
    {
      "cell_type": "code",
      "metadata": {
        "id": "06d4rcIBqxUa"
      },
      "source": [
        "# Run all the proposed models and update the information in a list model_data\n",
        "import time\n",
        "from math import sqrt\n",
        "from sklearn.metrics import mean_squared_error\n",
        "\n",
        "model_data = []\n",
        "for name,curr_model in models :\n",
        "    curr_model_data = {}\n",
        "    curr_model.random_state = 78\n",
        "    curr_model_data[\"Name\"] = name\n",
        "    start = time.time()\n",
        "    curr_model.fit(train_X,train_y)\n",
        "    end = time.time()\n",
        "    curr_model_data[\"Train_Time\"] = end - start\n",
        "    curr_model_data[\"Train_R2_Score\"] = metrics.r2_score(train_y,curr_model.predict(train_X))\n",
        "    curr_model_data[\"Test_R2_Score\"] = metrics.r2_score(test_y,curr_model.predict(test_X))\n",
        "    curr_model_data[\"Test_RMSE_Score\"] = sqrt(mean_squared_error(test_y,curr_model.predict(test_X)))\n",
        "    model_data.append(curr_model_data)"
      ],
      "execution_count": 47,
      "outputs": []
    },
    {
      "cell_type": "code",
      "metadata": {
        "colab": {
          "base_uri": "https://localhost:8080/"
        },
        "id": "y9uqvIlunHFE",
        "outputId": "0e473adf-8760-478d-fb41-18b636d92b3f"
      },
      "source": [
        "model_data"
      ],
      "execution_count": 48,
      "outputs": [
        {
          "output_type": "execute_result",
          "data": {
            "text/plain": [
              "[{'Name': 'Lasso: ',\n",
              "  'Test_R2_Score': 0.0,\n",
              "  'Test_RMSE_Score': 0.9999999999999999,\n",
              "  'Train_R2_Score': 0.0,\n",
              "  'Train_Time': 0.012268304824829102},\n",
              " {'Name': 'Ridge: ',\n",
              "  'Test_R2_Score': 0.13401381799403744,\n",
              "  'Test_RMSE_Score': 0.9305837855915836,\n",
              "  'Train_R2_Score': 0.13401381799403744,\n",
              "  'Train_Time': 0.025066375732421875}]"
            ]
          },
          "metadata": {},
          "execution_count": 48
        }
      ]
    },
    {
      "cell_type": "code",
      "metadata": {
        "id": "r-8anZotnLs-"
      },
      "source": [
        "# Convert list to dataframe\n",
        "df = pd.DataFrame(model_data)"
      ],
      "execution_count": 49,
      "outputs": []
    },
    {
      "cell_type": "code",
      "metadata": {
        "colab": {
          "base_uri": "https://localhost:8080/",
          "height": 110
        },
        "id": "7ezu9ma3nYfk",
        "outputId": "1df54247-7cf9-462b-822f-83296af8048b"
      },
      "source": [
        "df"
      ],
      "execution_count": 50,
      "outputs": [
        {
          "output_type": "execute_result",
          "data": {
            "text/html": [
              "<div>\n",
              "<style scoped>\n",
              "    .dataframe tbody tr th:only-of-type {\n",
              "        vertical-align: middle;\n",
              "    }\n",
              "\n",
              "    .dataframe tbody tr th {\n",
              "        vertical-align: top;\n",
              "    }\n",
              "\n",
              "    .dataframe thead th {\n",
              "        text-align: right;\n",
              "    }\n",
              "</style>\n",
              "<table border=\"1\" class=\"dataframe\">\n",
              "  <thead>\n",
              "    <tr style=\"text-align: right;\">\n",
              "      <th></th>\n",
              "      <th>Name</th>\n",
              "      <th>Train_Time</th>\n",
              "      <th>Train_R2_Score</th>\n",
              "      <th>Test_R2_Score</th>\n",
              "      <th>Test_RMSE_Score</th>\n",
              "    </tr>\n",
              "  </thead>\n",
              "  <tbody>\n",
              "    <tr>\n",
              "      <th>0</th>\n",
              "      <td>Lasso:</td>\n",
              "      <td>0.012268</td>\n",
              "      <td>0.000000</td>\n",
              "      <td>0.000000</td>\n",
              "      <td>1.000000</td>\n",
              "    </tr>\n",
              "    <tr>\n",
              "      <th>1</th>\n",
              "      <td>Ridge:</td>\n",
              "      <td>0.025066</td>\n",
              "      <td>0.134014</td>\n",
              "      <td>0.134014</td>\n",
              "      <td>0.930584</td>\n",
              "    </tr>\n",
              "  </tbody>\n",
              "</table>\n",
              "</div>"
            ],
            "text/plain": [
              "      Name  Train_Time  Train_R2_Score  Test_R2_Score  Test_RMSE_Score\n",
              "0  Lasso:     0.012268        0.000000       0.000000         1.000000\n",
              "1  Ridge:     0.025066        0.134014       0.134014         0.930584"
            ]
          },
          "metadata": {},
          "execution_count": 50
        }
      ]
    },
    {
      "cell_type": "code",
      "metadata": {
        "colab": {
          "base_uri": "https://localhost:8080/",
          "height": 546
        },
        "id": "OzzFuxF0ncne",
        "outputId": "8b9e592a-751a-4a2f-bd0d-b37a9449692e"
      },
      "source": [
        "df.plot(x=\"Name\", y=['Test_R2_Score' , 'Train_R2_Score' , 'Test_RMSE_Score'], kind=\"bar\" , title = 'R2 Score Results' , figsize= (10,8)) ;"
      ],
      "execution_count": 51,
      "outputs": [
        {
          "output_type": "display_data",
          "data": {
            "image/png": "[encoded data removed]",
            "text/plain": [
              "<Figure size 720x576 with 1 Axes>"
            ]
          },
          "metadata": {}
        }
      ]
    },
    {
      "cell_type": "markdown",
      "metadata": {
        "id": "CvgNTqAGvfEt"
      },
      "source": [
        "# **Obervations**\n",
        "Best results over test set are given by Ridge with R2 score of 0.41  \n",
        "Least RMSE score is also by Ridge 0.76   \n",
        "Lasso regularization over Linear regression was worst performing model"
      ]
    },
    {
      "cell_type": "markdown",
      "metadata": {
        "id": "x2npeJWds3MX"
      },
      "source": [
        "# **Linear Regression results**"
      ]
    },
    {
      "cell_type": "code",
      "metadata": {
        "colab": {
          "base_uri": "https://localhost:8080/"
        },
        "id": "5YBg9Iy_noOA",
        "outputId": "fc286421-092c-4414-c765-d2266e727c24"
      },
      "source": [
        "# Fitting Multiple Linear Regression to the Training set\n",
        "\n",
        "regressor = LinearRegression()\n",
        "regressor.fit(train_X, train_y)"
      ],
      "execution_count": 52,
      "outputs": [
        {
          "output_type": "execute_result",
          "data": {
            "text/plain": [
              "LinearRegression(copy_X=True, fit_intercept=True, n_jobs=None, normalize=False)"
            ]
          },
          "metadata": {},
          "execution_count": 52
        }
      ]
    },
    {
      "cell_type": "code",
      "metadata": {
        "colab": {
          "base_uri": "https://localhost:8080/"
        },
        "id": "gEwSt5Htnr5Z",
        "outputId": "dc80ba4c-eb17-4ad4-a8e0-b9d8ac69a08c"
      },
      "source": [
        "regressor.score(train_X, train_y)"
      ],
      "execution_count": 53,
      "outputs": [
        {
          "output_type": "execute_result",
          "data": {
            "text/plain": [
              "0.1340139585922111"
            ]
          },
          "metadata": {},
          "execution_count": 53
        }
      ]
    },
    {
      "cell_type": "code",
      "metadata": {
        "id": "1VffHwvFnwH_"
      },
      "source": [
        "# Predicting the Test set results\n",
        "y_pred = regressor.predict(test_X)"
      ],
      "execution_count": 54,
      "outputs": []
    },
    {
      "cell_type": "code",
      "metadata": {
        "id": "0Y3te1GHnzgR"
      },
      "source": [
        "# Predicting the Train set results\n",
        "y_train_pred = regressor.predict(train_X)"
      ],
      "execution_count": 55,
      "outputs": []
    },
    {
      "cell_type": "code",
      "metadata": {
        "colab": {
          "base_uri": "https://localhost:8080/"
        },
        "id": "UFF_5bsNn72g",
        "outputId": "845fbe79-6935-4caa-ce78-78db538f3807"
      },
      "source": [
        "y_pred[1:5]"
      ],
      "execution_count": 56,
      "outputs": [
        {
          "output_type": "execute_result",
          "data": {
            "text/plain": [
              "array([0.16176152, 0.118159  , 0.0875313 , 0.12377452])"
            ]
          },
          "metadata": {},
          "execution_count": 56
        }
      ]
    },
    {
      "cell_type": "code",
      "metadata": {
        "colab": {
          "base_uri": "https://localhost:8080/"
        },
        "id": "FESgZg76n_GH",
        "outputId": "d36ffb0c-0fc3-4be3-adf9-39ce1ae69579"
      },
      "source": [
        "test_y[1:5]"
      ],
      "execution_count": 57,
      "outputs": [
        {
          "output_type": "execute_result",
          "data": {
            "text/plain": [
              "1   -0.367676\n",
              "2   -0.465215\n",
              "3   -0.465215\n",
              "4   -0.367676\n",
              "Name: Appliances, dtype: float64"
            ]
          },
          "metadata": {},
          "execution_count": 57
        }
      ]
    },
    {
      "cell_type": "code",
      "metadata": {
        "colab": {
          "base_uri": "https://localhost:8080/"
        },
        "id": "12maQJg7oCKS",
        "outputId": "94594142-cb5c-4d38-b157-4fdc9228d817"
      },
      "source": [
        "regressor.coef_"
      ],
      "execution_count": 58,
      "outputs": [
        {
          "output_type": "execute_result",
          "data": {
            "text/plain": [
              "array([ 0.00583473, -0.38686389,  0.44638285,  0.00546797, -0.1147973 ,\n",
              "       -0.17418132,  0.1611024 ,  0.64631115, -0.61837802,  0.17252575,\n",
              "        0.11099173,  0.03216782,  0.06823773, -0.03385435, -0.33455986,\n",
              "       -0.08473677, -0.09545195,  0.11435712, -0.08415531,  0.01595628,\n",
              "        0.05049183])"
            ]
          },
          "metadata": {},
          "execution_count": 58
        }
      ]
    },
    {
      "cell_type": "code",
      "metadata": {
        "colab": {
          "base_uri": "https://localhost:8080/"
        },
        "id": "ydj6qmt3oE-o",
        "outputId": "0375937c-5743-45a7-e0d1-df241b5ea050"
      },
      "source": [
        "regressor.intercept_"
      ],
      "execution_count": 59,
      "outputs": [
        {
          "output_type": "execute_result",
          "data": {
            "text/plain": [
              "5.917459187674201e-16"
            ]
          },
          "metadata": {},
          "execution_count": 59
        }
      ]
    },
    {
      "cell_type": "code",
      "metadata": {
        "id": "bFwKPjvPoIhu"
      },
      "source": [
        "def print_metrics(actual, predicted):\n",
        "  print('MSE is {}'.format(mean_squared_error(actual, predicted)))\n",
        "  print('RMSE is {}'.format(math.sqrt(mean_squared_error(actual, predicted))))\n",
        "  print('RMSE is {}'.format(r2_score(actual, predicted)))\n",
        "  print('MAE is {}'.format(mean_absolute_error(actual, predicted)))  \n",
        "  print('r2_score is {}'.format(r2_score(actual, predicted)))"
      ],
      "execution_count": 60,
      "outputs": []
    },
    {
      "cell_type": "code",
      "metadata": {
        "colab": {
          "base_uri": "https://localhost:8080/"
        },
        "id": "5WMbcn7goMF4",
        "outputId": "6c2e9715-09a7-4978-fbc0-f6b508163b71"
      },
      "source": [
        "# Training dataset metrics\n",
        "print_metrics(train_y, y_train_pred)"
      ],
      "execution_count": 61,
      "outputs": [
        {
          "output_type": "stream",
          "name": "stdout",
          "text": [
            "MSE is 0.8659860414077888\n",
            "RMSE is 0.930583710048585\n",
            "RMSE is 0.1340139585922111\n",
            "MAE is 0.5276692224282626\n",
            "r2_score is 0.1340139585922111\n"
          ]
        }
      ]
    },
    {
      "cell_type": "code",
      "metadata": {
        "colab": {
          "base_uri": "https://localhost:8080/"
        },
        "id": "38lvhfuCoPNW",
        "outputId": "a33d8102-ce6b-4615-bf43-4d27af54f65d"
      },
      "source": [
        "# Test dataset metrics\n",
        "print_metrics(test_y, y_pred)"
      ],
      "execution_count": 62,
      "outputs": [
        {
          "output_type": "stream",
          "name": "stdout",
          "text": [
            "MSE is 0.8659860414077888\n",
            "RMSE is 0.930583710048585\n",
            "RMSE is 0.1340139585922111\n",
            "MAE is 0.5276692224282626\n",
            "r2_score is 0.1340139585922111\n"
          ]
        }
      ]
    },
    {
      "cell_type": "code",
      "metadata": {
        "id": "feQ-IQFGoTM4"
      },
      "source": [
        "# Adjusted R2\n",
        "\n",
        "def adjusted_r2(n, k, actual, predicted):\n",
        "  return 1 - (((n-1)/(n-k-1))*(1-r2_score(actual, predicted)))"
      ],
      "execution_count": 63,
      "outputs": []
    },
    {
      "cell_type": "code",
      "metadata": {
        "colab": {
          "base_uri": "https://localhost:8080/"
        },
        "id": "I08KCVGZoZ0Y",
        "outputId": "465bf5f3-835f-4fa4-eb81-01bcdefb59d0"
      },
      "source": [
        "adjusted_r2(len(train_y),len(feature_vars), train_y, y_train_pred)"
      ],
      "execution_count": 64,
      "outputs": [
        {
          "output_type": "execute_result",
          "data": {
            "text/plain": [
              "-3.330808043877675"
            ]
          },
          "metadata": {},
          "execution_count": 64
        }
      ]
    },
    {
      "cell_type": "markdown",
      "metadata": {
        "id": "0V5YqwR6tEWl"
      },
      "source": [
        "# **Ridge Regression**"
      ]
    },
    {
      "cell_type": "markdown",
      "metadata": {
        "id": "H-fQggxtE_5Z"
      },
      "source": [
        "Ridge regression is a way to create a parsimonious model when the number of predictor variables in a set exceeds the number of observations, or when a data set has multicollinearity (correlations between predictor variables)."
      ]
    },
    {
      "cell_type": "code",
      "metadata": {
        "id": "6aDlAqJ8o7Yr"
      },
      "source": [
        "from sklearn.linear_model import Ridge\n",
        "\n",
        "ridge  = Ridge(alpha=0.1)"
      ],
      "execution_count": 65,
      "outputs": []
    },
    {
      "cell_type": "code",
      "metadata": {
        "colab": {
          "base_uri": "https://localhost:8080/"
        },
        "id": "18a4miweo_Km",
        "outputId": "b1108c9c-89a5-41bd-b1ec-912bde904543"
      },
      "source": [
        "ridge.fit(train_X,train_y)"
      ],
      "execution_count": 66,
      "outputs": [
        {
          "output_type": "execute_result",
          "data": {
            "text/plain": [
              "Ridge(alpha=0.1, copy_X=True, fit_intercept=True, max_iter=None,\n",
              "      normalize=False, random_state=None, solver='auto', tol=0.001)"
            ]
          },
          "metadata": {},
          "execution_count": 66
        }
      ]
    },
    {
      "cell_type": "code",
      "metadata": {
        "colab": {
          "base_uri": "https://localhost:8080/"
        },
        "id": "hh_iy5OppB7X",
        "outputId": "0b0a66ed-d98e-4529-db7b-f63f77a62908"
      },
      "source": [
        "ridge.score(train_X, train_y)"
      ],
      "execution_count": 67,
      "outputs": [
        {
          "output_type": "execute_result",
          "data": {
            "text/plain": [
              "0.13401395717690112"
            ]
          },
          "metadata": {},
          "execution_count": 67
        }
      ]
    },
    {
      "cell_type": "code",
      "metadata": {
        "id": "Zk9on2ggpEbI"
      },
      "source": [
        "y_pred_r = ridge.predict(test_X)"
      ],
      "execution_count": 68,
      "outputs": []
    },
    {
      "cell_type": "code",
      "metadata": {
        "id": "yRXcB8McpI_v"
      },
      "source": [
        "def print_metrics(actual, predicted):\n",
        "  print('MSE is {}'.format(mean_squared_error(actual, predicted)))\n",
        "  print('RMSE is {}'.format(math.sqrt(mean_squared_error(actual, predicted))))\n",
        "  print('RMSE is {}'.format(r2_score(actual, predicted)))\n",
        "  print('MAE is {}'.format(mean_absolute_error(actual, predicted)))  \n",
        "  print('r2_score is {}'.format(r2_score(actual, predicted)))"
      ],
      "execution_count": 69,
      "outputs": []
    },
    {
      "cell_type": "code",
      "metadata": {
        "colab": {
          "base_uri": "https://localhost:8080/"
        },
        "id": "dFJssJyBpNSo",
        "outputId": "7d73841c-2f58-407f-d12e-65e005292223"
      },
      "source": [
        "# Test dataset metrics\n",
        "print_metrics(test_y, y_pred_r)"
      ],
      "execution_count": 70,
      "outputs": [
        {
          "output_type": "stream",
          "name": "stdout",
          "text": [
            "MSE is 0.8659860428230988\n",
            "RMSE is 0.930583710809027\n",
            "RMSE is 0.13401395717690112\n",
            "MAE is 0.5276673086600872\n",
            "r2_score is 0.13401395717690112\n"
          ]
        }
      ]
    },
    {
      "cell_type": "code",
      "metadata": {
        "colab": {
          "base_uri": "https://localhost:8080/",
          "height": 412
        },
        "id": "xcnROD3upc1H",
        "outputId": "bd0d836a-b0b8-4f84-89cd-175f1b6108d8"
      },
      "source": [
        "plt.figure(figsize=(8,6))\n",
        "plt.scatter(test_y, y_pred_r)\n",
        "plt.xlabel('Actual Appliances')\n",
        "plt.ylabel('Predicted Appliances')"
      ],
      "execution_count": 71,
      "outputs": [
        {
          "output_type": "execute_result",
          "data": {
            "text/plain": [
              "Text(0, 0.5, 'Predicted Appliances')"
            ]
          },
          "metadata": {},
          "execution_count": 71
        },
        {
          "output_type": "display_data",
          "data": {
            "image/png": "[encoded data removed]",
            "text/plain": [
              "<Figure size 576x432 with 1 Axes>"
            ]
          },
          "metadata": {}
        }
      ]
    },
    {
      "cell_type": "code",
      "metadata": {
        "colab": {
          "base_uri": "https://localhost:8080/",
          "height": 377
        },
        "id": "ZpQ8LSHrpk6_",
        "outputId": "ddfd3383-a4dc-4bb5-9e06-33b375f9fc93"
      },
      "source": [
        "plt.figure(figsize=(10,6))\n",
        "plt.plot((y_pred_r))\n",
        "plt.plot((np.array(test_y)))\n",
        "plt.legend([\"Predicted\",\"Actual\"])\n",
        "plt.show()"
      ],
      "execution_count": 72,
      "outputs": [
        {
          "output_type": "display_data",
          "data": {
            "image/png": "[encoded data removed]",
            "text/plain": [
              "<Figure size 720x432 with 1 Axes>"
            ]
          },
          "metadata": {}
        }
      ]
    },
    {
      "cell_type": "code",
      "metadata": {
        "colab": {
          "base_uri": "https://localhost:8080/",
          "height": 577
        },
        "id": "M5xHkxPdp892",
        "outputId": "7ba92a95-2495-4b79-99c2-f5cba374d45c"
      },
      "source": [
        "# Residual Analysis\n",
        "\n",
        "fig=plt.figure(figsize=(8,8))\n",
        "  \n",
        "sns.distplot(((test_y) - (y_pred_r)),bins=20,color='r')\n",
        "\n",
        "#Plot Label\n",
        "fig.suptitle('Residual Analysis', fontsize = 20)   "
      ],
      "execution_count": 73,
      "outputs": [
        {
          "output_type": "execute_result",
          "data": {
            "text/plain": [
              "Text(0.5, 0.98, 'Residual Analysis')"
            ]
          },
          "metadata": {},
          "execution_count": 73
        },
        {
          "output_type": "display_data",
          "data": {
            "image/png": "[encoded data removed]",
            "text/plain": [
              "<Figure size 576x576 with 1 Axes>"
            ]
          },
          "metadata": {}
        }
      ]
    },
    {
      "cell_type": "code",
      "metadata": {
        "colab": {
          "base_uri": "https://localhost:8080/",
          "height": 238
        },
        "id": "AttnqhKiaeA9",
        "outputId": "610008d8-6352-4ea4-f26a-732fb698f270"
      },
      "source": [
        "### Heteroscadacity\n",
        "\n",
        "plt.scatter((y_pred_r),(test_y)-(y_pred_r),c='r')\n",
        "plt.xlabel('Predicted Appliances')\n",
        "plt.ylabel('residuals')"
      ],
      "execution_count": 2,
      "outputs": [
        {
          "output_type": "error",
          "ename": "NameError",
          "evalue": "ignored",
          "traceback": [
            "\u001b[0;31m---------------------------------------------------------------------------\u001b[0m",
            "\u001b[0;31mNameError\u001b[0m                                 Traceback (most recent call last)",
            "\u001b[0;32m<ipython-input-2-3cf8f9fb4326>\u001b[0m in \u001b[0;36m<module>\u001b[0;34m()\u001b[0m\n\u001b[1;32m      1\u001b[0m \u001b[0;31m### Heteroscadacity\u001b[0m\u001b[0;34m\u001b[0m\u001b[0;34m\u001b[0m\u001b[0;34m\u001b[0m\u001b[0m\n\u001b[1;32m      2\u001b[0m \u001b[0;34m\u001b[0m\u001b[0m\n\u001b[0;32m----> 3\u001b[0;31m \u001b[0mplt\u001b[0m\u001b[0;34m.\u001b[0m\u001b[0mscatter\u001b[0m\u001b[0;34m(\u001b[0m\u001b[0;34m(\u001b[0m\u001b[0my_pred_r\u001b[0m\u001b[0;34m)\u001b[0m\u001b[0;34m,\u001b[0m\u001b[0;34m(\u001b[0m\u001b[0mtest_y\u001b[0m\u001b[0;34m)\u001b[0m\u001b[0;34m-\u001b[0m\u001b[0;34m(\u001b[0m\u001b[0my_pred_r\u001b[0m\u001b[0;34m)\u001b[0m\u001b[0;34m,\u001b[0m\u001b[0mc\u001b[0m\u001b[0;34m=\u001b[0m\u001b[0;34m'r'\u001b[0m\u001b[0;34m)\u001b[0m\u001b[0;34m\u001b[0m\u001b[0;34m\u001b[0m\u001b[0m\n\u001b[0m\u001b[1;32m      4\u001b[0m \u001b[0mplt\u001b[0m\u001b[0;34m.\u001b[0m\u001b[0mxlabel\u001b[0m\u001b[0;34m(\u001b[0m\u001b[0;34m'Predicted Appliances'\u001b[0m\u001b[0;34m)\u001b[0m\u001b[0;34m\u001b[0m\u001b[0;34m\u001b[0m\u001b[0m\n\u001b[1;32m      5\u001b[0m \u001b[0mplt\u001b[0m\u001b[0;34m.\u001b[0m\u001b[0mylabel\u001b[0m\u001b[0;34m(\u001b[0m\u001b[0;34m'residuals'\u001b[0m\u001b[0;34m)\u001b[0m\u001b[0;34m\u001b[0m\u001b[0;34m\u001b[0m\u001b[0m\n",
            "\u001b[0;31mNameError\u001b[0m: name 'plt' is not defined"
          ]
        }
      ]
    },
    {
      "cell_type": "markdown",
      "metadata": {
        "id": "FWPoInr3i-il"
      },
      "source": [
        "## Running Grid Search Cross Validation for Ridge Regression\n",
        "\n",
        "---\n",
        "\n"
      ]
    },
    {
      "cell_type": "code",
      "metadata": {
        "id": "MmwN5RfmavWj"
      },
      "source": [
        "from sklearn.model_selection import GridSearchCV"
      ],
      "execution_count": null,
      "outputs": []
    },
    {
      "cell_type": "code",
      "metadata": {
        "id": "Z7j6shmpay8v"
      },
      "source": [
        "# Hyperparameter tuning\n",
        "\n",
        "ridge = Ridge()\n",
        "parameters = {'alpha': [1e-15,1e-10,1e-8,1e-5,1e-4,1e-3,1e-2,1,5,10,20,30,40,45,50,55,60,100]}\n",
        "ridge_regressor = GridSearchCV(ridge, parameters, scoring='neg_mean_squared_error', cv=3)\n",
        "ridge_regressor.fit(train_X,train_y)"
      ],
      "execution_count": null,
      "outputs": []
    },
    {
      "cell_type": "code",
      "metadata": {
        "id": "G0__Qubpa3e4"
      },
      "source": [
        "print(\"The best fit alpha value is found out to be :\" ,ridge_regressor.best_params_)\n",
        "print(\"\\nUsing \",ridge_regressor.best_params_, \" the negative mean squared error is: \", ridge_regressor.best_score_)"
      ],
      "execution_count": null,
      "outputs": []
    },
    {
      "cell_type": "code",
      "metadata": {
        "id": "BHoIb7ENa7NQ"
      },
      "source": [
        "# Model Prediction\n",
        "y_pred_ridge = ridge_regressor.predict(test_X)"
      ],
      "execution_count": null,
      "outputs": []
    },
    {
      "cell_type": "code",
      "metadata": {
        "id": "c2xJvTX0a9iX"
      },
      "source": [
        "def print_metrics(actual, predicted):\n",
        "  print('MSE is {}'.format(mean_squared_error(actual, predicted)))\n",
        "  print('RMSE is {}'.format(math.sqrt(mean_squared_error(actual, predicted))))\n",
        "  print('RMSE is {}'.format(r2_score(actual, predicted)))\n",
        "  print('MAE is {}'.format(mean_absolute_error(actual, predicted)))  \n",
        "  print('r2_score is {}'.format(r2_score(actual, predicted)))"
      ],
      "execution_count": null,
      "outputs": []
    },
    {
      "cell_type": "code",
      "metadata": {
        "id": "C3xK0fG7bAYI"
      },
      "source": [
        "# Test dataset metrics\n",
        "print_metrics(test_y, y_pred_ridge)"
      ],
      "execution_count": null,
      "outputs": []
    },
    {
      "cell_type": "code",
      "metadata": {
        "id": "l0ynVncobC7h"
      },
      "source": [
        "plt.scatter((test_y),(y_pred_ridge))\n",
        "plt.xlabel('Actual Appliances')\n",
        "plt.ylabel('Predicted Appliances')"
      ],
      "execution_count": null,
      "outputs": []
    },
    {
      "cell_type": "code",
      "metadata": {
        "id": "8fkUyVsKbF6P"
      },
      "source": [
        "plt.figure(figsize=(10,6))\n",
        "plt.plot((y_pred_ridge))\n",
        "plt.plot((np.array(test_y)))\n",
        "plt.legend([\"Predicted\",\"Actual\"])\n",
        "plt.show()"
      ],
      "execution_count": null,
      "outputs": []
    },
    {
      "cell_type": "code",
      "metadata": {
        "id": "aIej2qSebJLP"
      },
      "source": [
        "#Residual Analysis\n",
        "\n",
        "fig=plt.figure(figsize=(8,6))\n",
        "  \n",
        "sns.distplot(((test_y)- (y_pred_ridge)),bins=20,color='r')\n",
        "\n",
        "#Plot Label\n",
        "fig.suptitle('Residual Analysis', fontsize = 20)   "
      ],
      "execution_count": null,
      "outputs": []
    },
    {
      "cell_type": "code",
      "metadata": {
        "id": "P9KCazZvbMcf"
      },
      "source": [
        "### Heteroscadacity\n",
        "\n",
        "plt.scatter((y_pred_ridge),(test_y)-(y_pred_ridge),c='r')\n",
        "plt.xlabel('Predicted Appliances')\n",
        "plt.ylabel('residuals')"
      ],
      "execution_count": null,
      "outputs": []
    },
    {
      "cell_type": "markdown",
      "metadata": {
        "id": "3DaHDrRatdYw"
      },
      "source": [
        "# **Lasso Regression**"
      ]
    }
  ]
}